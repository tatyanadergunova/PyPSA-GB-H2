{
 "cells": [
  {
   "cell_type": "markdown",
   "id": "01cc9e46",
   "metadata": {},
   "source": [
    "# Data reader-writer (generators)"
   ]
  },
  {
   "cell_type": "markdown",
   "id": "6eecf27a",
   "metadata": {},
   "source": [
    "This notebook is developed to read FES hydrogen supply and divide it by hourly fluctuation and clusters share (refer capacity-splitter).\n",
    "\n",
    "This notbeook covers hydrogen generation from the following technologies: \n",
    "1. Methane Reformation with CCUS\n",
    "2. Nuclear Electrolysis\n",
    "3. Biomass gasification\n",
    "4. Imports\n",
    "5. Networked Electrolysi\n",
    "6. Non-networked Electrolysis\n",
    "\n",
    "Note: 1,2,3,4 - assumed to have steady hydrogen production (no fluctuations)."
   ]
  },
  {
   "cell_type": "code",
   "execution_count": 1,
   "id": "70aa8526",
   "metadata": {},
   "outputs": [
    {
     "data": {
      "text/plain": [
       "'C:\\\\Users\\\\tatya\\\\OneDrive - University of Edinburgh\\\\01 Dissertation\\\\01 PyPSA\\\\PyPSA-GB-H2\\\\notebooks'"
      ]
     },
     "execution_count": 1,
     "metadata": {},
     "output_type": "execute_result"
    }
   ],
   "source": [
    "import os\n",
    "import sys\n",
    "from dotenv import find_dotenv, load_dotenv\n",
    "\n",
    "load_dotenv(find_dotenv())\n",
    "src_path = os.environ.get('PROJECT_SRC')\n",
    "os.chdir(src_path)\n",
    "os.getcwd()"
   ]
  },
  {
   "cell_type": "code",
   "execution_count": 2,
   "id": "7ef38e4e",
   "metadata": {},
   "outputs": [],
   "source": [
    "import pandas as pd\n",
    "import numpy as np"
   ]
  },
  {
   "cell_type": "code",
   "execution_count": 3,
   "id": "67842776",
   "metadata": {},
   "outputs": [],
   "source": [
    "# select scenario:\n",
    "# scenario = 'Consumer Transformation'\n",
    "# scenario = 'Falling Short'\n",
    "# scenario = 'Leading the Way'\n",
    "scenario = 'System Transformation'"
   ]
  },
  {
   "cell_type": "code",
   "execution_count": 4,
   "id": "8101abcb",
   "metadata": {},
   "outputs": [],
   "source": [
    "# select year:\n",
    "year = 2050"
   ]
  },
  {
   "cell_type": "code",
   "execution_count": 5,
   "id": "be0ffc7e",
   "metadata": {},
   "outputs": [],
   "source": [
    "# select year (to write snapshots):\n",
    "df = pd.DataFrame()\n",
    "df['name'] = pd.date_range('2050-01-01 00:00:00','2050-12-31 23:00:00', freq='H')\n",
    "df['weightings'] = 1\n",
    "df.to_csv('..\\data\\LOPF_data\\snapshots.csv', index=False)"
   ]
  },
  {
   "cell_type": "code",
   "execution_count": 6,
   "id": "612fba20",
   "metadata": {},
   "outputs": [],
   "source": [
    "# read FES-2022:\n",
    "xls = pd.ExcelFile('..\\data\\FES2022\\FES2022 Workbook V6.xlsx')\n",
    "df1 = pd.read_excel(xls, 'WS1', header=7)\n",
    "# get column A name - 'Fuel Type'\n",
    "col_1 = df1.columns[0]\n",
    "# get column B name - 'Scenario'\n",
    "col_2 = df1.columns[1]\n",
    "# get column D name - 'Category'\n",
    "col_3 = df1.columns[3]\n",
    "# get column E name - 'Sector'\n",
    "col_4 = df1.columns[4]"
   ]
  },
  {
   "cell_type": "markdown",
   "id": "2d177928",
   "metadata": {},
   "source": [
    "### Get yearly generation per technology from FES"
   ]
  },
  {
   "cell_type": "code",
   "execution_count": 7,
   "id": "b12ff8ae",
   "metadata": {},
   "outputs": [],
   "source": [
    "# get partial dataframe with rows filtered by value in column A & B & D & E - by Scenario & year\n",
    "\n",
    "# Methane Reformation with CCUS:\n",
    "df_smr = df1.loc[(df1[col_1]=='Hydrogen') & (df1[col_2]== scenario) & (df1[col_3]=='Supply') & (df1[col_4].isin(['Methane Reformation with CCUS']))]\n",
    "df_smr = df_smr.filter(['Sector', year], axis=1)\n",
    "df_smr = df_smr.set_index(['Sector'])\n",
    "\n",
    "# Nuclear Electrolysis:\n",
    "df_nuclear = df1.loc[(df1[col_1]=='Hydrogen') & (df1[col_2]== scenario) & (df1[col_3]=='Supply') & (df1[col_4].isin(['Nuclear Electrolysis']))]\n",
    "df_nuclear = df_nuclear.filter(['Sector', year], axis=1)\n",
    "df_nuclear = df_nuclear.set_index(['Sector'])\n",
    "\n",
    "# Biomass gasification:\n",
    "df_bio = df1.loc[(df1[col_1]=='Hydrogen') & (df1[col_2]== scenario) & (df1[col_3]=='Supply') & (df1[col_4].isin(['Biomass gasification']))]\n",
    "df_bio = df_bio.filter(['Sector', year], axis=1)\n",
    "df_bio = df_bio.set_index(['Sector'])\n",
    "\n",
    "# Non-networked Electrolysis:\n",
    "df_non = df1.loc[(df1[col_1]=='Hydrogen') & (df1[col_2]== scenario) & (df1[col_3]=='Capacity') & (df1[col_4].isin(['Non-networked Electrolysis']))]\n",
    "df_non = df_non.filter(['Sector', year], axis=1)\n",
    "df_non = df_non.set_index(['Sector'])\n",
    "\n",
    "# Imports:\n",
    "df_import = df1.loc[(df1[col_1]=='Hydrogen') & (df1[col_2]== scenario) & (df1[col_3]=='Supply') & (df1[col_4].isin(['Imports']))]\n",
    "df_import = df_import.filter(['Sector', year], axis=1)\n",
    "df_import = df_import.set_index(['Sector'])\n",
    "\n",
    "# Networked Electrolysis:\n",
    "df_net = df1.loc[(df1[col_1]=='Hydrogen') & (df1[col_2]== scenario) & (df1[col_3]=='Capacity') & (df1[col_4].isin(['Networked Electrolysis']))]\n",
    "df_net = df_net.filter(['Sector', year], axis=1)\n",
    "df_net = df_net.set_index(['Sector'])"
   ]
  },
  {
   "cell_type": "code",
   "execution_count": 8,
   "id": "dc6a91dc",
   "metadata": {},
   "outputs": [],
   "source": [
    "# read capacity-splitter by clusters:\n",
    "xls = pd.ExcelFile('..\\data\\capacity-splitter\\capacity-splitter.xlsx')\n",
    "df2 = pd.read_excel(xls, 'generators-share', header=0)"
   ]
  },
  {
   "cell_type": "markdown",
   "id": "c72ff9de",
   "metadata": {},
   "source": [
    "### 1. Methane Reformation with CCUS"
   ]
  },
  {
   "cell_type": "code",
   "execution_count": 9,
   "id": "7b9968a7",
   "metadata": {},
   "outputs": [],
   "source": [
    "# get hourly generation (& convert TWh to MWh):\n",
    "df_smr['hourly'] = df_smr.iloc[0][year] / 8760 * 1e6"
   ]
  },
  {
   "cell_type": "code",
   "execution_count": 10,
   "id": "25178461",
   "metadata": {},
   "outputs": [],
   "source": [
    "# split values by Industrial Clusters based on assumed % in capacity-splitter:\n",
    "\n",
    "df_smr['St Fergus'] = df_smr['hourly'].mul(df2.iloc[0]['St Fergus'])\n",
    "df_smr['Grangemouth'] = df_smr['hourly'].mul(df2.iloc[0]['Grangemouth'])\n",
    "df_smr['Teesside'] = df_smr['hourly'].mul(df2.iloc[0]['Teesside'])\n",
    "df_smr['Humberside'] = df_smr['hourly'].mul(df2.iloc[0]['Humberside'])\n",
    "df_smr['Theddlethorpe'] = df_smr['hourly'].mul(df2.iloc[0]['Theddlethorpe'])\n",
    "df_smr['Merseyside'] = df_smr['hourly'].mul(df2.iloc[0]['Merseyside'])\n",
    "df_smr['Barrow'] = df_smr['hourly'].mul(df2.iloc[0]['Barrow'])\n",
    "df_smr['Bacton'] = df_smr['hourly'].mul(df2.iloc[0]['Bacton'])\n",
    "df_smr['Grain LNG'] = df_smr['hourly'].mul(df2.iloc[0]['Grain LNG'])\n",
    "df_smr['Southampton'] = df_smr['hourly'].mul(df2.iloc[0]['Southampton'])\n",
    "df_smr['South Wales'] = df_smr['hourly'].mul(df2.iloc[0]['South Wales'])\n",
    "\n",
    "df_smr = df_smr.drop(['hourly',year], axis=1)"
   ]
  },
  {
   "cell_type": "code",
   "execution_count": 11,
   "id": "9414863e",
   "metadata": {},
   "outputs": [],
   "source": [
    "# rename and re-arrange columns:\n",
    "df_smr = df_smr.transpose()\n",
    "df_smr['p_min_pu'] = 1\n",
    "df_smr['type'] = 'Methane Reformation with CCUS'\n",
    "df_smr.rename(columns={'Methane Reformation with CCUS': 'p_nom'}, inplace=True)\n",
    "df_smr = df_smr.rename_axis(None, axis=1).rename_axis('bus', axis=0)"
   ]
  },
  {
   "cell_type": "code",
   "execution_count": 12,
   "id": "22acc0e4",
   "metadata": {},
   "outputs": [
    {
     "data": {
      "text/html": [
       "<div>\n",
       "<style scoped>\n",
       "    .dataframe tbody tr th:only-of-type {\n",
       "        vertical-align: middle;\n",
       "    }\n",
       "\n",
       "    .dataframe tbody tr th {\n",
       "        vertical-align: top;\n",
       "    }\n",
       "\n",
       "    .dataframe thead th {\n",
       "        text-align: right;\n",
       "    }\n",
       "</style>\n",
       "<table border=\"1\" class=\"dataframe\">\n",
       "  <thead>\n",
       "    <tr style=\"text-align: right;\">\n",
       "      <th></th>\n",
       "      <th>p_nom</th>\n",
       "      <th>p_min_pu</th>\n",
       "      <th>type</th>\n",
       "    </tr>\n",
       "    <tr>\n",
       "      <th>bus</th>\n",
       "      <th></th>\n",
       "      <th></th>\n",
       "      <th></th>\n",
       "    </tr>\n",
       "  </thead>\n",
       "  <tbody>\n",
       "    <tr>\n",
       "      <th>St Fergus</th>\n",
       "      <td>3555.701509</td>\n",
       "      <td>1</td>\n",
       "      <td>Methane Reformation with CCUS</td>\n",
       "    </tr>\n",
       "    <tr>\n",
       "      <th>Grangemouth</th>\n",
       "      <td>3555.701509</td>\n",
       "      <td>1</td>\n",
       "      <td>Methane Reformation with CCUS</td>\n",
       "    </tr>\n",
       "    <tr>\n",
       "      <th>Teesside</th>\n",
       "      <td>3555.701509</td>\n",
       "      <td>1</td>\n",
       "      <td>Methane Reformation with CCUS</td>\n",
       "    </tr>\n",
       "    <tr>\n",
       "      <th>Humberside</th>\n",
       "      <td>3555.701509</td>\n",
       "      <td>1</td>\n",
       "      <td>Methane Reformation with CCUS</td>\n",
       "    </tr>\n",
       "    <tr>\n",
       "      <th>Theddlethorpe</th>\n",
       "      <td>3555.701509</td>\n",
       "      <td>1</td>\n",
       "      <td>Methane Reformation with CCUS</td>\n",
       "    </tr>\n",
       "    <tr>\n",
       "      <th>Merseyside</th>\n",
       "      <td>3555.701509</td>\n",
       "      <td>1</td>\n",
       "      <td>Methane Reformation with CCUS</td>\n",
       "    </tr>\n",
       "    <tr>\n",
       "      <th>Barrow</th>\n",
       "      <td>0.000000</td>\n",
       "      <td>1</td>\n",
       "      <td>Methane Reformation with CCUS</td>\n",
       "    </tr>\n",
       "    <tr>\n",
       "      <th>Bacton</th>\n",
       "      <td>3555.701509</td>\n",
       "      <td>1</td>\n",
       "      <td>Methane Reformation with CCUS</td>\n",
       "    </tr>\n",
       "    <tr>\n",
       "      <th>Grain LNG</th>\n",
       "      <td>0.000000</td>\n",
       "      <td>1</td>\n",
       "      <td>Methane Reformation with CCUS</td>\n",
       "    </tr>\n",
       "    <tr>\n",
       "      <th>Southampton</th>\n",
       "      <td>0.000000</td>\n",
       "      <td>1</td>\n",
       "      <td>Methane Reformation with CCUS</td>\n",
       "    </tr>\n",
       "    <tr>\n",
       "      <th>South Wales</th>\n",
       "      <td>0.000000</td>\n",
       "      <td>1</td>\n",
       "      <td>Methane Reformation with CCUS</td>\n",
       "    </tr>\n",
       "  </tbody>\n",
       "</table>\n",
       "</div>"
      ],
      "text/plain": [
       "                     p_nom  p_min_pu                           type\n",
       "bus                                                                \n",
       "St Fergus      3555.701509         1  Methane Reformation with CCUS\n",
       "Grangemouth    3555.701509         1  Methane Reformation with CCUS\n",
       "Teesside       3555.701509         1  Methane Reformation with CCUS\n",
       "Humberside     3555.701509         1  Methane Reformation with CCUS\n",
       "Theddlethorpe  3555.701509         1  Methane Reformation with CCUS\n",
       "Merseyside     3555.701509         1  Methane Reformation with CCUS\n",
       "Barrow            0.000000         1  Methane Reformation with CCUS\n",
       "Bacton         3555.701509         1  Methane Reformation with CCUS\n",
       "Grain LNG         0.000000         1  Methane Reformation with CCUS\n",
       "Southampton       0.000000         1  Methane Reformation with CCUS\n",
       "South Wales       0.000000         1  Methane Reformation with CCUS"
      ]
     },
     "execution_count": 12,
     "metadata": {},
     "output_type": "execute_result"
    }
   ],
   "source": [
    "df_smr"
   ]
  },
  {
   "cell_type": "code",
   "execution_count": 13,
   "id": "f21336fc",
   "metadata": {
    "scrolled": false
   },
   "outputs": [],
   "source": [
    "df_smr.to_csv('..\\data\\generators\\working\\h2-smr.csv', index=True)"
   ]
  },
  {
   "cell_type": "markdown",
   "id": "ae617df6",
   "metadata": {},
   "source": [
    "### 2. Nuclear Electrolysis"
   ]
  },
  {
   "cell_type": "code",
   "execution_count": 14,
   "id": "0ff5959b",
   "metadata": {},
   "outputs": [],
   "source": [
    "# get hourly generation (& convert TWh to MWh):\n",
    "df_nuclear['hourly'] = df_nuclear.iloc[0][year] / 8760 * 1e6"
   ]
  },
  {
   "cell_type": "code",
   "execution_count": 15,
   "id": "7f61a3da",
   "metadata": {},
   "outputs": [],
   "source": [
    "# split values by Industrial Clusters based on assumed % in capacity-splitter:\n",
    "\n",
    "df_nuclear['St Fergus'] = df_nuclear['hourly'].mul(df2.iloc[1]['St Fergus'])\n",
    "df_nuclear['Grangemouth'] = df_nuclear['hourly'].mul(df2.iloc[1]['Grangemouth'])\n",
    "df_nuclear['Teesside'] = df_nuclear['hourly'].mul(df2.iloc[1]['Teesside'])\n",
    "df_nuclear['Humberside'] = df_nuclear['hourly'].mul(df2.iloc[1]['Humberside'])\n",
    "df_nuclear['Theddlethorpe'] = df_nuclear['hourly'].mul(df2.iloc[1]['Theddlethorpe'])\n",
    "df_nuclear['Merseyside'] = df_nuclear['hourly'].mul(df2.iloc[1]['Merseyside'])\n",
    "df_nuclear['Barrow'] = df_nuclear['hourly'].mul(df2.iloc[1]['Barrow'])\n",
    "df_nuclear['Bacton'] = df_nuclear['hourly'].mul(df2.iloc[1]['Bacton'])\n",
    "df_nuclear['Grain LNG'] = df_nuclear['hourly'].mul(df2.iloc[1]['Grain LNG'])\n",
    "df_nuclear['Southampton'] = df_nuclear['hourly'].mul(df2.iloc[1]['Southampton'])\n",
    "df_nuclear['South Wales'] = df_nuclear['hourly'].mul(df2.iloc[1]['South Wales'])\n",
    "\n",
    "df_nuclear = df_nuclear.drop(['hourly',year], axis=1)"
   ]
  },
  {
   "cell_type": "code",
   "execution_count": 16,
   "id": "eeaf113a",
   "metadata": {},
   "outputs": [],
   "source": [
    "# rename and re-arrange columns:\n",
    "df_nuclear = df_nuclear.transpose()\n",
    "df_nuclear['p_min_pu'] = 1\n",
    "df_nuclear['type'] = 'Nuclear Electrolysis'\n",
    "df_nuclear.rename(columns={'Nuclear Electrolysis': 'p_nom'}, inplace=True)\n",
    "df_nuclear = df_nuclear.rename_axis(None, axis=1).rename_axis('bus', axis=0)"
   ]
  },
  {
   "cell_type": "code",
   "execution_count": 17,
   "id": "cf4f2819",
   "metadata": {},
   "outputs": [
    {
     "data": {
      "text/html": [
       "<div>\n",
       "<style scoped>\n",
       "    .dataframe tbody tr th:only-of-type {\n",
       "        vertical-align: middle;\n",
       "    }\n",
       "\n",
       "    .dataframe tbody tr th {\n",
       "        vertical-align: top;\n",
       "    }\n",
       "\n",
       "    .dataframe thead th {\n",
       "        text-align: right;\n",
       "    }\n",
       "</style>\n",
       "<table border=\"1\" class=\"dataframe\">\n",
       "  <thead>\n",
       "    <tr style=\"text-align: right;\">\n",
       "      <th></th>\n",
       "      <th>p_nom</th>\n",
       "      <th>p_min_pu</th>\n",
       "      <th>type</th>\n",
       "    </tr>\n",
       "    <tr>\n",
       "      <th>bus</th>\n",
       "      <th></th>\n",
       "      <th></th>\n",
       "      <th></th>\n",
       "    </tr>\n",
       "  </thead>\n",
       "  <tbody>\n",
       "    <tr>\n",
       "      <th>St Fergus</th>\n",
       "      <td>0.000000</td>\n",
       "      <td>1</td>\n",
       "      <td>Nuclear Electrolysis</td>\n",
       "    </tr>\n",
       "    <tr>\n",
       "      <th>Grangemouth</th>\n",
       "      <td>0.000000</td>\n",
       "      <td>1</td>\n",
       "      <td>Nuclear Electrolysis</td>\n",
       "    </tr>\n",
       "    <tr>\n",
       "      <th>Teesside</th>\n",
       "      <td>0.000000</td>\n",
       "      <td>1</td>\n",
       "      <td>Nuclear Electrolysis</td>\n",
       "    </tr>\n",
       "    <tr>\n",
       "      <th>Humberside</th>\n",
       "      <td>0.000000</td>\n",
       "      <td>1</td>\n",
       "      <td>Nuclear Electrolysis</td>\n",
       "    </tr>\n",
       "    <tr>\n",
       "      <th>Theddlethorpe</th>\n",
       "      <td>0.000000</td>\n",
       "      <td>1</td>\n",
       "      <td>Nuclear Electrolysis</td>\n",
       "    </tr>\n",
       "    <tr>\n",
       "      <th>Merseyside</th>\n",
       "      <td>570.776256</td>\n",
       "      <td>1</td>\n",
       "      <td>Nuclear Electrolysis</td>\n",
       "    </tr>\n",
       "    <tr>\n",
       "      <th>Barrow</th>\n",
       "      <td>0.000000</td>\n",
       "      <td>1</td>\n",
       "      <td>Nuclear Electrolysis</td>\n",
       "    </tr>\n",
       "    <tr>\n",
       "      <th>Bacton</th>\n",
       "      <td>570.776256</td>\n",
       "      <td>1</td>\n",
       "      <td>Nuclear Electrolysis</td>\n",
       "    </tr>\n",
       "    <tr>\n",
       "      <th>Grain LNG</th>\n",
       "      <td>570.776256</td>\n",
       "      <td>1</td>\n",
       "      <td>Nuclear Electrolysis</td>\n",
       "    </tr>\n",
       "    <tr>\n",
       "      <th>Southampton</th>\n",
       "      <td>0.000000</td>\n",
       "      <td>1</td>\n",
       "      <td>Nuclear Electrolysis</td>\n",
       "    </tr>\n",
       "    <tr>\n",
       "      <th>South Wales</th>\n",
       "      <td>570.776256</td>\n",
       "      <td>1</td>\n",
       "      <td>Nuclear Electrolysis</td>\n",
       "    </tr>\n",
       "  </tbody>\n",
       "</table>\n",
       "</div>"
      ],
      "text/plain": [
       "                    p_nom  p_min_pu                  type\n",
       "bus                                                      \n",
       "St Fergus        0.000000         1  Nuclear Electrolysis\n",
       "Grangemouth      0.000000         1  Nuclear Electrolysis\n",
       "Teesside         0.000000         1  Nuclear Electrolysis\n",
       "Humberside       0.000000         1  Nuclear Electrolysis\n",
       "Theddlethorpe    0.000000         1  Nuclear Electrolysis\n",
       "Merseyside     570.776256         1  Nuclear Electrolysis\n",
       "Barrow           0.000000         1  Nuclear Electrolysis\n",
       "Bacton         570.776256         1  Nuclear Electrolysis\n",
       "Grain LNG      570.776256         1  Nuclear Electrolysis\n",
       "Southampton      0.000000         1  Nuclear Electrolysis\n",
       "South Wales    570.776256         1  Nuclear Electrolysis"
      ]
     },
     "execution_count": 17,
     "metadata": {},
     "output_type": "execute_result"
    }
   ],
   "source": [
    "df_nuclear"
   ]
  },
  {
   "cell_type": "code",
   "execution_count": 18,
   "id": "38c3a5a3",
   "metadata": {},
   "outputs": [],
   "source": [
    "df_nuclear.to_csv('..\\data\\generators\\working\\h2-nuclear.csv', index=True)"
   ]
  },
  {
   "cell_type": "markdown",
   "id": "ef14ab24",
   "metadata": {},
   "source": [
    "### 3. Biomass gasification"
   ]
  },
  {
   "cell_type": "code",
   "execution_count": 19,
   "id": "a9439866",
   "metadata": {},
   "outputs": [],
   "source": [
    "# get hourly generation (& convert TWh to MWh):\n",
    "df_bio['hourly'] = df_bio.iloc[0][year] / 8760 * 1e6"
   ]
  },
  {
   "cell_type": "code",
   "execution_count": 20,
   "id": "c07420c0",
   "metadata": {},
   "outputs": [],
   "source": [
    "# split values by Industrial Clusters based on assumed % in capacity-splitter:\n",
    "\n",
    "df_bio['St Fergus'] = df_bio['hourly'].mul(df2.iloc[2]['St Fergus'])\n",
    "df_bio['Grangemouth'] = df_bio['hourly'].mul(df2.iloc[2]['Grangemouth'])\n",
    "df_bio['Teesside'] = df_bio['hourly'].mul(df2.iloc[2]['Teesside'])\n",
    "df_bio['Humberside'] = df_bio['hourly'].mul(df2.iloc[2]['Humberside'])\n",
    "df_bio['Theddlethorpe'] = df_bio['hourly'].mul(df2.iloc[2]['Theddlethorpe'])\n",
    "df_bio['Merseyside'] = df_bio['hourly'].mul(df2.iloc[2]['Merseyside'])\n",
    "df_bio['Barrow'] = df_bio['hourly'].mul(df2.iloc[2]['Barrow'])\n",
    "df_bio['Bacton'] = df_bio['hourly'].mul(df2.iloc[2]['Bacton'])\n",
    "df_bio['Grain LNG'] = df_bio['hourly'].mul(df2.iloc[2]['Grain LNG'])\n",
    "df_bio['Southampton'] = df_bio['hourly'].mul(df2.iloc[2]['Southampton'])\n",
    "df_bio['South Wales'] = df_bio['hourly'].mul(df2.iloc[2]['South Wales'])\n",
    "\n",
    "df_bio = df_bio.drop(['hourly',year], axis=1)"
   ]
  },
  {
   "cell_type": "code",
   "execution_count": 21,
   "id": "65fd085d",
   "metadata": {},
   "outputs": [],
   "source": [
    "# rename and re-arrange columns:\n",
    "df_bio = df_bio.transpose()\n",
    "df_bio['p_min_pu'] = 1\n",
    "df_bio['type'] = 'Biomass gasification'\n",
    "df_bio.rename(columns={'Biomass gasification': 'p_nom'}, inplace=True)\n",
    "df_bio = df_bio.rename_axis(None, axis=1).rename_axis('bus', axis=0)"
   ]
  },
  {
   "cell_type": "code",
   "execution_count": 22,
   "id": "1a8073b3",
   "metadata": {},
   "outputs": [
    {
     "data": {
      "text/html": [
       "<div>\n",
       "<style scoped>\n",
       "    .dataframe tbody tr th:only-of-type {\n",
       "        vertical-align: middle;\n",
       "    }\n",
       "\n",
       "    .dataframe tbody tr th {\n",
       "        vertical-align: top;\n",
       "    }\n",
       "\n",
       "    .dataframe thead th {\n",
       "        text-align: right;\n",
       "    }\n",
       "</style>\n",
       "<table border=\"1\" class=\"dataframe\">\n",
       "  <thead>\n",
       "    <tr style=\"text-align: right;\">\n",
       "      <th></th>\n",
       "      <th>p_nom</th>\n",
       "      <th>p_min_pu</th>\n",
       "      <th>type</th>\n",
       "    </tr>\n",
       "    <tr>\n",
       "      <th>bus</th>\n",
       "      <th></th>\n",
       "      <th></th>\n",
       "      <th></th>\n",
       "    </tr>\n",
       "  </thead>\n",
       "  <tbody>\n",
       "    <tr>\n",
       "      <th>St Fergus</th>\n",
       "      <td>0.000000</td>\n",
       "      <td>1</td>\n",
       "      <td>Biomass gasification</td>\n",
       "    </tr>\n",
       "    <tr>\n",
       "      <th>Grangemouth</th>\n",
       "      <td>0.000000</td>\n",
       "      <td>1</td>\n",
       "      <td>Biomass gasification</td>\n",
       "    </tr>\n",
       "    <tr>\n",
       "      <th>Teesside</th>\n",
       "      <td>0.000000</td>\n",
       "      <td>1</td>\n",
       "      <td>Biomass gasification</td>\n",
       "    </tr>\n",
       "    <tr>\n",
       "      <th>Humberside</th>\n",
       "      <td>0.000000</td>\n",
       "      <td>1</td>\n",
       "      <td>Biomass gasification</td>\n",
       "    </tr>\n",
       "    <tr>\n",
       "      <th>Theddlethorpe</th>\n",
       "      <td>753.424658</td>\n",
       "      <td>1</td>\n",
       "      <td>Biomass gasification</td>\n",
       "    </tr>\n",
       "    <tr>\n",
       "      <th>Merseyside</th>\n",
       "      <td>0.000000</td>\n",
       "      <td>1</td>\n",
       "      <td>Biomass gasification</td>\n",
       "    </tr>\n",
       "    <tr>\n",
       "      <th>Barrow</th>\n",
       "      <td>0.000000</td>\n",
       "      <td>1</td>\n",
       "      <td>Biomass gasification</td>\n",
       "    </tr>\n",
       "    <tr>\n",
       "      <th>Bacton</th>\n",
       "      <td>753.424658</td>\n",
       "      <td>1</td>\n",
       "      <td>Biomass gasification</td>\n",
       "    </tr>\n",
       "    <tr>\n",
       "      <th>Grain LNG</th>\n",
       "      <td>753.424658</td>\n",
       "      <td>1</td>\n",
       "      <td>Biomass gasification</td>\n",
       "    </tr>\n",
       "    <tr>\n",
       "      <th>Southampton</th>\n",
       "      <td>753.424658</td>\n",
       "      <td>1</td>\n",
       "      <td>Biomass gasification</td>\n",
       "    </tr>\n",
       "    <tr>\n",
       "      <th>South Wales</th>\n",
       "      <td>753.424658</td>\n",
       "      <td>1</td>\n",
       "      <td>Biomass gasification</td>\n",
       "    </tr>\n",
       "  </tbody>\n",
       "</table>\n",
       "</div>"
      ],
      "text/plain": [
       "                    p_nom  p_min_pu                  type\n",
       "bus                                                      \n",
       "St Fergus        0.000000         1  Biomass gasification\n",
       "Grangemouth      0.000000         1  Biomass gasification\n",
       "Teesside         0.000000         1  Biomass gasification\n",
       "Humberside       0.000000         1  Biomass gasification\n",
       "Theddlethorpe  753.424658         1  Biomass gasification\n",
       "Merseyside       0.000000         1  Biomass gasification\n",
       "Barrow           0.000000         1  Biomass gasification\n",
       "Bacton         753.424658         1  Biomass gasification\n",
       "Grain LNG      753.424658         1  Biomass gasification\n",
       "Southampton    753.424658         1  Biomass gasification\n",
       "South Wales    753.424658         1  Biomass gasification"
      ]
     },
     "execution_count": 22,
     "metadata": {},
     "output_type": "execute_result"
    }
   ],
   "source": [
    "df_bio"
   ]
  },
  {
   "cell_type": "code",
   "execution_count": 23,
   "id": "392b0468",
   "metadata": {},
   "outputs": [],
   "source": [
    "df_bio.to_csv('..\\data\\generators\\working\\h2-bio.csv', index=True)"
   ]
  },
  {
   "cell_type": "markdown",
   "id": "cb665018",
   "metadata": {},
   "source": [
    "### 4. Imports"
   ]
  },
  {
   "cell_type": "code",
   "execution_count": 24,
   "id": "e42e5e0c",
   "metadata": {},
   "outputs": [],
   "source": [
    "# get hourly generation (& convert TWh to MWh):\n",
    "df_import['hourly'] = df_import.iloc[0][year] / 8760 * 1e6"
   ]
  },
  {
   "cell_type": "code",
   "execution_count": 25,
   "id": "0ba12817",
   "metadata": {},
   "outputs": [],
   "source": [
    "# split values by Industrial Clusters based on assumed % in capacity-splitter:\n",
    "\n",
    "df_import['St Fergus'] = df_import['hourly'].mul(df2.iloc[5]['St Fergus'])\n",
    "df_import['Grangemouth'] = df_import['hourly'].mul(df2.iloc[5]['Grangemouth'])\n",
    "df_import['Teesside'] = df_import['hourly'].mul(df2.iloc[5]['Teesside'])\n",
    "df_import['Humberside'] = df_import['hourly'].mul(df2.iloc[5]['Humberside'])\n",
    "df_import['Theddlethorpe'] = df_import['hourly'].mul(df2.iloc[5]['Theddlethorpe'])\n",
    "df_import['Merseyside'] = df_import['hourly'].mul(df2.iloc[5]['Merseyside'])\n",
    "df_import['Barrow'] = df_import['hourly'].mul(df2.iloc[5]['Barrow'])\n",
    "df_import['Bacton'] = df_import['hourly'].mul(df2.iloc[5]['Bacton'])\n",
    "df_import['Grain LNG'] = df_import['hourly'].mul(df2.iloc[5]['Grain LNG'])\n",
    "df_import['Southampton'] = df_import['hourly'].mul(df2.iloc[5]['Southampton'])\n",
    "df_import['South Wales'] = df_import['hourly'].mul(df2.iloc[5]['South Wales'])\n",
    "\n",
    "df_import = df_import.drop(['hourly',year], axis=1)"
   ]
  },
  {
   "cell_type": "code",
   "execution_count": 26,
   "id": "67a8ab56",
   "metadata": {},
   "outputs": [],
   "source": [
    "# rename and re-arrange columns:\n",
    "df_import = df_import.transpose()\n",
    "df_import['p_min_pu'] = 1\n",
    "df_import['type'] = 'Imports'\n",
    "df_import.rename(columns={'Imports': 'p_nom'}, inplace=True)\n",
    "df_import = df_import.rename_axis(None, axis=1).rename_axis('bus', axis=0)"
   ]
  },
  {
   "cell_type": "code",
   "execution_count": 27,
   "id": "bde9cd7a",
   "metadata": {},
   "outputs": [
    {
     "data": {
      "text/html": [
       "<div>\n",
       "<style scoped>\n",
       "    .dataframe tbody tr th:only-of-type {\n",
       "        vertical-align: middle;\n",
       "    }\n",
       "\n",
       "    .dataframe tbody tr th {\n",
       "        vertical-align: top;\n",
       "    }\n",
       "\n",
       "    .dataframe thead th {\n",
       "        text-align: right;\n",
       "    }\n",
       "</style>\n",
       "<table border=\"1\" class=\"dataframe\">\n",
       "  <thead>\n",
       "    <tr style=\"text-align: right;\">\n",
       "      <th></th>\n",
       "      <th>p_nom</th>\n",
       "      <th>p_min_pu</th>\n",
       "      <th>type</th>\n",
       "    </tr>\n",
       "    <tr>\n",
       "      <th>bus</th>\n",
       "      <th></th>\n",
       "      <th></th>\n",
       "      <th></th>\n",
       "    </tr>\n",
       "  </thead>\n",
       "  <tbody>\n",
       "    <tr>\n",
       "      <th>St Fergus</th>\n",
       "      <td>0.0</td>\n",
       "      <td>1</td>\n",
       "      <td>Imports</td>\n",
       "    </tr>\n",
       "    <tr>\n",
       "      <th>Grangemouth</th>\n",
       "      <td>0.0</td>\n",
       "      <td>1</td>\n",
       "      <td>Imports</td>\n",
       "    </tr>\n",
       "    <tr>\n",
       "      <th>Teesside</th>\n",
       "      <td>0.0</td>\n",
       "      <td>1</td>\n",
       "      <td>Imports</td>\n",
       "    </tr>\n",
       "    <tr>\n",
       "      <th>Humberside</th>\n",
       "      <td>0.0</td>\n",
       "      <td>1</td>\n",
       "      <td>Imports</td>\n",
       "    </tr>\n",
       "    <tr>\n",
       "      <th>Theddlethorpe</th>\n",
       "      <td>0.0</td>\n",
       "      <td>1</td>\n",
       "      <td>Imports</td>\n",
       "    </tr>\n",
       "    <tr>\n",
       "      <th>Merseyside</th>\n",
       "      <td>0.0</td>\n",
       "      <td>1</td>\n",
       "      <td>Imports</td>\n",
       "    </tr>\n",
       "    <tr>\n",
       "      <th>Barrow</th>\n",
       "      <td>0.0</td>\n",
       "      <td>1</td>\n",
       "      <td>Imports</td>\n",
       "    </tr>\n",
       "    <tr>\n",
       "      <th>Bacton</th>\n",
       "      <td>0.0</td>\n",
       "      <td>1</td>\n",
       "      <td>Imports</td>\n",
       "    </tr>\n",
       "    <tr>\n",
       "      <th>Grain LNG</th>\n",
       "      <td>0.0</td>\n",
       "      <td>1</td>\n",
       "      <td>Imports</td>\n",
       "    </tr>\n",
       "    <tr>\n",
       "      <th>Southampton</th>\n",
       "      <td>0.0</td>\n",
       "      <td>1</td>\n",
       "      <td>Imports</td>\n",
       "    </tr>\n",
       "    <tr>\n",
       "      <th>South Wales</th>\n",
       "      <td>0.0</td>\n",
       "      <td>1</td>\n",
       "      <td>Imports</td>\n",
       "    </tr>\n",
       "  </tbody>\n",
       "</table>\n",
       "</div>"
      ],
      "text/plain": [
       "               p_nom  p_min_pu     type\n",
       "bus                                    \n",
       "St Fergus        0.0         1  Imports\n",
       "Grangemouth      0.0         1  Imports\n",
       "Teesside         0.0         1  Imports\n",
       "Humberside       0.0         1  Imports\n",
       "Theddlethorpe    0.0         1  Imports\n",
       "Merseyside       0.0         1  Imports\n",
       "Barrow           0.0         1  Imports\n",
       "Bacton           0.0         1  Imports\n",
       "Grain LNG        0.0         1  Imports\n",
       "Southampton      0.0         1  Imports\n",
       "South Wales      0.0         1  Imports"
      ]
     },
     "execution_count": 27,
     "metadata": {},
     "output_type": "execute_result"
    }
   ],
   "source": [
    "df_import"
   ]
  },
  {
   "cell_type": "code",
   "execution_count": 28,
   "id": "90bdc4c7",
   "metadata": {},
   "outputs": [],
   "source": [
    "df_import.to_csv('..\\data\\generators\\working\\h2-import.csv', index=True)"
   ]
  },
  {
   "cell_type": "markdown",
   "id": "61ed0923",
   "metadata": {},
   "source": [
    "### 5. Networked Electrolysis"
   ]
  },
  {
   "cell_type": "code",
   "execution_count": 29,
   "id": "50a7a070",
   "metadata": {},
   "outputs": [],
   "source": [
    "# read FES-2022 to extract electolysers location in 2050:\n",
    "xls = pd.ExcelFile('..\\data\\FES2022\\FES2022 Workbook V6.xlsx')\n",
    "df3 = pd.read_excel(xls, 'FL.14', usecols=\"J,K\")"
   ]
  },
  {
   "cell_type": "code",
   "execution_count": 30,
   "id": "187a363b",
   "metadata": {},
   "outputs": [],
   "source": [
    "# extract data per selected scenario:\n",
    "index = df3.loc[df3.isin([scenario]).any(axis=1)].index.tolist()[0]\n",
    "df3 = df3[(index+4):(index+18)]\n",
    "df3 = df3.transpose()\n",
    "df3 = df3.rename(columns=df3.iloc[0]).drop(df3.index[0])"
   ]
  },
  {
   "cell_type": "code",
   "execution_count": 31,
   "id": "7b1fddb9",
   "metadata": {},
   "outputs": [],
   "source": [
    "# split by clusters:\n",
    "df3['St Fergus'] = df3['North Scotland']\n",
    "df3['Grangemouth'] = df3['South Scotland']\n",
    "df3['Teesside'] = df3['North East England'] + df3['North West England'] \n",
    "df3['Humberside'] = df3['East Midlands'] + df3['Yorkshire']    \n",
    "df3['Theddlethorpe'] = 0\n",
    "df3['Merseyside'] = df3['North Wales and Merseyside']\n",
    "df3['Barrow'] = 0 \n",
    "df3['Bacton'] = df3['East England']\n",
    "df3['Grain LNG'] = df3['London'] + df3['South East England'] \n",
    "df3['Southampton'] = df3['South England']\n",
    "df3['South Wales-1'] = df3['South Wales'] + df3['South West England'] + df3['West Midlands'] \n",
    "\n",
    "df3 = df3.drop(['East England', 'East Midlands', 'London', 'North East England','North Scotland', 'North Wales and Merseyside', 'North West England',\n",
    "       'South East England', 'South England', 'South Scotland', 'South Wales','South West England', 'West Midlands', 'Yorkshire'], axis=1)\n",
    "\n",
    "df3.rename(columns={'South Wales-1': 'South Wales'}, inplace=True)"
   ]
  },
  {
   "cell_type": "code",
   "execution_count": 32,
   "id": "c96b31b7",
   "metadata": {},
   "outputs": [],
   "source": [
    "# get production capacity foe each cluster:\n",
    "df3 = df3.transpose()\n",
    "df3['share'] = df3['Unnamed: 10'] / df3.values.sum()\n",
    "df3['p_nom'] = df3['share'].mul(df_net.iloc[0][year] * 1e3)"
   ]
  },
  {
   "cell_type": "code",
   "execution_count": 33,
   "id": "48bf1e43",
   "metadata": {},
   "outputs": [],
   "source": [
    "# rename and re-arrange columns:\n",
    "df3 = df3.drop(['Unnamed: 10','share'], axis=1)\n",
    "df3['p_min_pu'] = 0\n",
    "df3['type'] = 'Networked Electrolysis'\n",
    "df3.index.names = ['bus']"
   ]
  },
  {
   "cell_type": "code",
   "execution_count": 34,
   "id": "28c0bc53",
   "metadata": {
    "scrolled": false
   },
   "outputs": [
    {
     "data": {
      "text/html": [
       "<div>\n",
       "<style scoped>\n",
       "    .dataframe tbody tr th:only-of-type {\n",
       "        vertical-align: middle;\n",
       "    }\n",
       "\n",
       "    .dataframe tbody tr th {\n",
       "        vertical-align: top;\n",
       "    }\n",
       "\n",
       "    .dataframe thead th {\n",
       "        text-align: right;\n",
       "    }\n",
       "</style>\n",
       "<table border=\"1\" class=\"dataframe\">\n",
       "  <thead>\n",
       "    <tr style=\"text-align: right;\">\n",
       "      <th></th>\n",
       "      <th>p_nom</th>\n",
       "      <th>p_min_pu</th>\n",
       "      <th>type</th>\n",
       "    </tr>\n",
       "    <tr>\n",
       "      <th>bus</th>\n",
       "      <th></th>\n",
       "      <th></th>\n",
       "      <th></th>\n",
       "    </tr>\n",
       "  </thead>\n",
       "  <tbody>\n",
       "    <tr>\n",
       "      <th>St Fergus</th>\n",
       "      <td>7030.867956</td>\n",
       "      <td>0</td>\n",
       "      <td>Networked Electrolysis</td>\n",
       "    </tr>\n",
       "    <tr>\n",
       "      <th>Grangemouth</th>\n",
       "      <td>4557.072518</td>\n",
       "      <td>0</td>\n",
       "      <td>Networked Electrolysis</td>\n",
       "    </tr>\n",
       "    <tr>\n",
       "      <th>Teesside</th>\n",
       "      <td>3546.952192</td>\n",
       "      <td>0</td>\n",
       "      <td>Networked Electrolysis</td>\n",
       "    </tr>\n",
       "    <tr>\n",
       "      <th>Humberside</th>\n",
       "      <td>4670.845583</td>\n",
       "      <td>0</td>\n",
       "      <td>Networked Electrolysis</td>\n",
       "    </tr>\n",
       "    <tr>\n",
       "      <th>Theddlethorpe</th>\n",
       "      <td>0.0</td>\n",
       "      <td>0</td>\n",
       "      <td>Networked Electrolysis</td>\n",
       "    </tr>\n",
       "    <tr>\n",
       "      <th>Merseyside</th>\n",
       "      <td>3422.41681</td>\n",
       "      <td>0</td>\n",
       "      <td>Networked Electrolysis</td>\n",
       "    </tr>\n",
       "    <tr>\n",
       "      <th>Barrow</th>\n",
       "      <td>0.0</td>\n",
       "      <td>0</td>\n",
       "      <td>Networked Electrolysis</td>\n",
       "    </tr>\n",
       "    <tr>\n",
       "      <th>Bacton</th>\n",
       "      <td>7020.874376</td>\n",
       "      <td>0</td>\n",
       "      <td>Networked Electrolysis</td>\n",
       "    </tr>\n",
       "    <tr>\n",
       "      <th>Grain LNG</th>\n",
       "      <td>1157.717816</td>\n",
       "      <td>0</td>\n",
       "      <td>Networked Electrolysis</td>\n",
       "    </tr>\n",
       "    <tr>\n",
       "      <th>Southampton</th>\n",
       "      <td>333.631827</td>\n",
       "      <td>0</td>\n",
       "      <td>Networked Electrolysis</td>\n",
       "    </tr>\n",
       "    <tr>\n",
       "      <th>South Wales</th>\n",
       "      <td>2705.953992</td>\n",
       "      <td>0</td>\n",
       "      <td>Networked Electrolysis</td>\n",
       "    </tr>\n",
       "  </tbody>\n",
       "</table>\n",
       "</div>"
      ],
      "text/plain": [
       "                     p_nom  p_min_pu                    type\n",
       "bus                                                         \n",
       "St Fergus      7030.867956         0  Networked Electrolysis\n",
       "Grangemouth    4557.072518         0  Networked Electrolysis\n",
       "Teesside       3546.952192         0  Networked Electrolysis\n",
       "Humberside     4670.845583         0  Networked Electrolysis\n",
       "Theddlethorpe          0.0         0  Networked Electrolysis\n",
       "Merseyside      3422.41681         0  Networked Electrolysis\n",
       "Barrow                 0.0         0  Networked Electrolysis\n",
       "Bacton         7020.874376         0  Networked Electrolysis\n",
       "Grain LNG      1157.717816         0  Networked Electrolysis\n",
       "Southampton     333.631827         0  Networked Electrolysis\n",
       "South Wales    2705.953992         0  Networked Electrolysis"
      ]
     },
     "execution_count": 34,
     "metadata": {},
     "output_type": "execute_result"
    }
   ],
   "source": [
    "df3"
   ]
  },
  {
   "cell_type": "code",
   "execution_count": 35,
   "id": "67e6fc23",
   "metadata": {},
   "outputs": [
    {
     "data": {
      "text/plain": [
       "34.446333070128944"
      ]
     },
     "execution_count": 35,
     "metadata": {},
     "output_type": "execute_result"
    }
   ],
   "source": [
    "# check 'Capacity' GW per FES:\n",
    "df3['p_nom'].values.sum() / 1e3"
   ]
  },
  {
   "cell_type": "code",
   "execution_count": 36,
   "id": "e91cb3de",
   "metadata": {},
   "outputs": [],
   "source": [
    "df3.to_csv('..\\data\\generators\\working\\h2-networked.csv', index=True)"
   ]
  },
  {
   "cell_type": "markdown",
   "id": "a51d2559",
   "metadata": {},
   "source": [
    "### 6. Non-networked Electrolysis"
   ]
  },
  {
   "cell_type": "code",
   "execution_count": 37,
   "id": "3f4464d2",
   "metadata": {},
   "outputs": [],
   "source": [
    "# get hourly generation (& convert TWh to MWh):\n",
    "df4 = df_non\n",
    "df4['hourly'] = df4.iloc[0][year] * 1e3"
   ]
  },
  {
   "cell_type": "code",
   "execution_count": 38,
   "id": "22cc4e0b",
   "metadata": {},
   "outputs": [],
   "source": [
    "# split values by Industrial Clusters based on assumed % in capacity-splitter:\n",
    "\n",
    "df4['St Fergus'] = df4['hourly'].mul(df2.iloc[3]['St Fergus'])\n",
    "df4['Grangemouth'] = df4['hourly'].mul(df2.iloc[3]['Grangemouth'])\n",
    "df4['Teesside'] = df4['hourly'].mul(df2.iloc[3]['Teesside'])\n",
    "df4['Humberside'] = df4['hourly'].mul(df2.iloc[3]['Humberside'])\n",
    "df4['Theddlethorpe'] = df4['hourly'].mul(df2.iloc[3]['Theddlethorpe'])\n",
    "df4['Merseyside'] = df4['hourly'].mul(df2.iloc[3]['Merseyside'])\n",
    "df4['Barrow'] = df4['hourly'].mul(df2.iloc[3]['Barrow'])\n",
    "df4['Bacton'] = df4['hourly'].mul(df2.iloc[3]['Bacton'])\n",
    "df4['Grain LNG'] = df4['hourly'].mul(df2.iloc[3]['Grain LNG'])\n",
    "df4['Southampton'] = df4['hourly'].mul(df2.iloc[3]['Southampton'])\n",
    "df4['South Wales'] = df4['hourly'].mul(df2.iloc[3]['South Wales'])\n",
    "\n",
    "df4 = df4.drop(['hourly',year], axis=1)"
   ]
  },
  {
   "cell_type": "code",
   "execution_count": 39,
   "id": "9664871d",
   "metadata": {},
   "outputs": [],
   "source": [
    "# rename and re-arrange columns:\n",
    "df4 = df4.transpose()\n",
    "df4['p_min_pu'] = 0\n",
    "df4['type'] = 'Non-networked Electrolysis'\n",
    "df4.rename(columns={'Non-networked Electrolysis': 'p_nom'}, inplace=True)\n",
    "df4 = df4.rename_axis(None, axis=1).rename_axis('bus', axis=0)"
   ]
  },
  {
   "cell_type": "code",
   "execution_count": 40,
   "id": "be73b7f2",
   "metadata": {},
   "outputs": [
    {
     "data": {
      "text/plain": [
       "15.105365280173228"
      ]
     },
     "execution_count": 40,
     "metadata": {},
     "output_type": "execute_result"
    }
   ],
   "source": [
    "# check 'Capacity' GW per FES:\n",
    "df4['p_nom'].values.sum() / 1e3"
   ]
  },
  {
   "cell_type": "code",
   "execution_count": 41,
   "id": "58d9accc",
   "metadata": {},
   "outputs": [],
   "source": [
    "df4.to_csv('..\\data\\generators\\working\\h2-non-networked.csv', index=True)"
   ]
  },
  {
   "cell_type": "markdown",
   "id": "e490d8b5",
   "metadata": {},
   "source": [
    "### Merge all clusters in one table and re-arrange data for PyPSA"
   ]
  },
  {
   "cell_type": "code",
   "execution_count": 42,
   "id": "7c5d8fce",
   "metadata": {},
   "outputs": [],
   "source": [
    "import glob"
   ]
  },
  {
   "cell_type": "code",
   "execution_count": 43,
   "id": "f7f63a57",
   "metadata": {},
   "outputs": [],
   "source": [
    "path = '..\\data\\generators\\working'"
   ]
  },
  {
   "cell_type": "code",
   "execution_count": 44,
   "id": "9b918773",
   "metadata": {},
   "outputs": [],
   "source": [
    "all_files = glob.glob(os.path.join(path, \"*.csv\"))\n",
    "df5 = pd.concat((pd.read_csv(f) for f in all_files), axis=0, ignore_index=False)"
   ]
  },
  {
   "cell_type": "code",
   "execution_count": 45,
   "id": "a3cf897f",
   "metadata": {},
   "outputs": [],
   "source": [
    "# add unique name\n",
    "df5['name'] = df5['type'].astype(str) + ': ' + df5['bus'].astype(str)\n",
    "# add carrier\n",
    "df5['carrier']='Hydrogen'\n",
    "# add p_max_pu\n",
    "df5['p_max_pu']= 1\n",
    "# rearrange columns\n",
    "df5 = df5[['name','carrier','type','bus','p_nom','p_max_pu','p_min_pu']]"
   ]
  },
  {
   "cell_type": "code",
   "execution_count": 46,
   "id": "a3a97188",
   "metadata": {},
   "outputs": [],
   "source": [
    "df5.to_csv('..\\data\\LOPF_data\\generators.csv', index=False)"
   ]
  },
  {
   "cell_type": "markdown",
   "id": "b57d770b",
   "metadata": {},
   "source": [
    "## Generators-p_max_pu (Non-networked and Networked Electrolysis)"
   ]
  },
  {
   "cell_type": "markdown",
   "id": "2713eae1",
   "metadata": {},
   "source": [
    "Electrolysers availability is depdendant on renewable electricity generation paterns. Wind Offshore, Wind Onshore and Soloar Photovoltaic maximum avialable power was extracted from PyPSA-GB model and electrolysers availability prorated accordingly.\n",
    "\n",
    "1. Networked Electrolysis\n",
    "2. Non-networked Electrolysis\n",
    "\n",
    "Note: currenly total Wind Offshore, Wind Onshore was used for electrolysers availability estimation without geospacial resolution, i.e. assuming networked electricity. PV was ignored at current stage as it's availability ranges 10-15%."
   ]
  },
  {
   "cell_type": "code",
   "execution_count": 47,
   "id": "419fc465",
   "metadata": {},
   "outputs": [],
   "source": [
    "# scenario is selected based on earlier input: \n",
    "if scenario == 'Consumer Transformation': \n",
    "    path = '..\\data\\PyPSA-GB\\electricity-renewables\\CT\\year-2050'\n",
    "elif scenario == 'Falling Short': \n",
    "    path = '..\\data\\PyPSA-GB\\electricity-renewables\\FS\\year-2050'\n",
    "elif scenario == 'Leading the Way':\n",
    "    path = '..\\data\\PyPSA-GB\\electricity-renewables\\LW\\year-2050'\n",
    "elif scenario == 'System Transformation':\n",
    "    path = '..\\data\\PyPSA-GB\\electricity-renewables\\ST\\year-2050'"
   ]
  },
  {
   "cell_type": "code",
   "execution_count": 48,
   "id": "16318e01",
   "metadata": {},
   "outputs": [
    {
     "data": {
      "text/plain": [
       "'..\\\\data\\\\PyPSA-GB\\\\electricity-renewables\\\\ST\\\\year-2050'"
      ]
     },
     "execution_count": 48,
     "metadata": {},
     "output_type": "execute_result"
    }
   ],
   "source": [
    "path"
   ]
  },
  {
   "cell_type": "code",
   "execution_count": 49,
   "id": "a0c41396",
   "metadata": {},
   "outputs": [],
   "source": [
    "# read csv:\n",
    "df6 = pd.read_csv(path+'\\generators-p_max_pu.csv')\n",
    "df6 = df6.set_index(['name'])\n",
    "df7 = pd.read_csv('..\\data\\generators\\generators-names.csv')"
   ]
  },
  {
   "cell_type": "code",
   "execution_count": 50,
   "id": "4cba8942",
   "metadata": {},
   "outputs": [],
   "source": [
    "# get average of wind readings as 'networked' and 'non-networked' availability factor:\n",
    "df6['Networked'] = df6[[col for col in df6.columns if col.startswith('Wind Offshore')]].mean(axis=1)\n",
    "df6['Non-networked'] = df6[[col for col in df6.columns if col.startswith('Wind Onshore')]].mean(axis=1)\n",
    "df6 = df6.filter(['Networked','Non-networked'], axis=1)"
   ]
  },
  {
   "cell_type": "code",
   "execution_count": 51,
   "id": "e77b2cb8",
   "metadata": {},
   "outputs": [],
   "source": [
    "# add correction factor: Networked Electrolysis:\n",
    "\n",
    "df_net_f = df1.loc[(df1[col_1]=='Hydrogen') & (df1[col_2]== scenario) & (df1[col_3]=='Supply') & (df1[col_4].isin(['Networked Electrolysis']))]\n",
    "df_net_f = df_net_f.filter(['Sector', year], axis=1)\n",
    "df_net_f = df_net_f.set_index(['Sector'])\n",
    "\n",
    "df_net_f = (df_net_f.values.sum() / (df_net.iloc[0][year] * 8760 / 1e3)) / df6['Networked'].values.mean()\n",
    "df6['Networked + factor'] = df6['Networked'] * df_net_f\n",
    "\n",
    "# add correction factor: Non-networked Electrolysis:\n",
    "df_non_f = df1.loc[(df1[col_1]=='Hydrogen') & (df1[col_2]== scenario) & (df1[col_3]=='Supply') & (df1[col_4].isin(['Non-networked Electrolysis']))]\n",
    "df_non_f = df_non_f.filter(['Sector', year], axis=1)\n",
    "df_non_f = df_non_f.set_index(['Sector'])\n",
    "\n",
    "df_non_f = (df_non_f.values.sum() / (df_non.iloc[0][year] * 8760 / 1e3)) / df6['Non-networked'].values.mean()\n",
    "df6['Non-networked + factor'] = df6['Non-networked'] * df_non_f"
   ]
  },
  {
   "cell_type": "markdown",
   "id": "325dc708",
   "metadata": {},
   "source": [
    "### 1. Networked Electrolysis"
   ]
  },
  {
   "cell_type": "code",
   "execution_count": 52,
   "id": "3934ef71",
   "metadata": {},
   "outputs": [],
   "source": [
    "df6['Networked Electrolysis' + ': ' + df7.iloc[0]['name']] = df6['Networked + factor']\n",
    "df6['Networked Electrolysis' + ': ' + df7.iloc[1]['name']] = df6['Networked + factor']\n",
    "df6['Networked Electrolysis' + ': ' + df7.iloc[2]['name']] = df6['Networked + factor']\n",
    "df6['Networked Electrolysis' + ': ' + df7.iloc[3]['name']] = df6['Networked + factor']\n",
    "df6['Networked Electrolysis' + ': ' + df7.iloc[4]['name']] = df6['Networked + factor']\n",
    "df6['Networked Electrolysis' + ': ' + df7.iloc[5]['name']] = df6['Networked + factor']\n",
    "df6['Networked Electrolysis' + ': ' + df7.iloc[6]['name']] = df6['Networked + factor']\n",
    "df6['Networked Electrolysis' + ': ' + df7.iloc[7]['name']] = df6['Networked + factor']\n",
    "df6['Networked Electrolysis' + ': ' + df7.iloc[8]['name']] = df6['Networked + factor']\n",
    "df6['Networked Electrolysis' + ': ' + df7.iloc[9]['name']] = df6['Networked + factor']\n",
    "df6['Networked Electrolysis' + ': ' + df7.iloc[10]['name']] = df6['Networked + factor']"
   ]
  },
  {
   "cell_type": "markdown",
   "id": "e1d062db",
   "metadata": {},
   "source": [
    "### 2. Non-networked Electrolysis"
   ]
  },
  {
   "cell_type": "code",
   "execution_count": 53,
   "id": "5d819cf4",
   "metadata": {},
   "outputs": [],
   "source": [
    "df6['Non-networked Electrolysis' + ': ' + df7.iloc[0]['name']] = df6['Non-networked + factor']\n",
    "df6['Non-networked Electrolysis' + ': ' + df7.iloc[1]['name']] = df6['Non-networked + factor']\n",
    "df6['Non-networked Electrolysis' + ': ' + df7.iloc[2]['name']] = df6['Non-networked + factor']\n",
    "df6['Non-networked Electrolysis' + ': ' + df7.iloc[3]['name']] = df6['Non-networked + factor']\n",
    "df6['Non-networked Electrolysis' + ': ' + df7.iloc[4]['name']] = df6['Non-networked + factor']\n",
    "df6['Non-networked Electrolysis' + ': ' + df7.iloc[5]['name']] = df6['Non-networked + factor']\n",
    "df6['Non-networked Electrolysis' + ': ' + df7.iloc[6]['name']] = df6['Non-networked + factor']\n",
    "df6['Non-networked Electrolysis' + ': ' + df7.iloc[7]['name']] = df6['Non-networked + factor']\n",
    "df6['Non-networked Electrolysis' + ': ' + df7.iloc[8]['name']] = df6['Non-networked + factor']\n",
    "df6['Non-networked Electrolysis' + ': ' + df7.iloc[9]['name']] = df6['Non-networked + factor']\n",
    "df6['Non-networked Electrolysis' + ': ' + df7.iloc[10]['name']] = df6['Non-networked + factor']"
   ]
  },
  {
   "cell_type": "code",
   "execution_count": 54,
   "id": "0f634f86",
   "metadata": {},
   "outputs": [],
   "source": [
    "df6 = df6.drop(['Networked','Non-networked','Networked + factor','Non-networked + factor'], axis=1)"
   ]
  },
  {
   "cell_type": "code",
   "execution_count": 55,
   "id": "43c00051",
   "metadata": {},
   "outputs": [],
   "source": [
    "df6.to_csv('..\\data\\LOPF_data\\generators-p_max_pu.csv', index=True)"
   ]
  },
  {
   "cell_type": "code",
   "execution_count": null,
   "id": "cd19fc4f",
   "metadata": {},
   "outputs": [],
   "source": []
  },
  {
   "cell_type": "code",
   "execution_count": null,
   "id": "b29b2897",
   "metadata": {},
   "outputs": [],
   "source": []
  }
 ],
 "metadata": {
  "kernelspec": {
   "display_name": "PyPSA-GB",
   "language": "python",
   "name": "pypsa-gb"
  },
  "language_info": {
   "codemirror_mode": {
    "name": "ipython",
    "version": 3
   },
   "file_extension": ".py",
   "mimetype": "text/x-python",
   "name": "python",
   "nbconvert_exporter": "python",
   "pygments_lexer": "ipython3",
   "version": "3.8.5"
  }
 },
 "nbformat": 4,
 "nbformat_minor": 5
}
