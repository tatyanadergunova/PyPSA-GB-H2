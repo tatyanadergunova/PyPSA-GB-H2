{
 "cells": [
  {
   "cell_type": "markdown",
   "id": "d4a04b88",
   "metadata": {},
   "source": [
    "# Industrial demand (historic)"
   ]
  },
  {
   "cell_type": "markdown",
   "id": "9cc7c31f",
   "metadata": {},
   "source": [
    "This notebook is to generate historic fluctuations of natural gas consumption by industries, which can further be used as input for industrial fluctuations of hydrogen consumption. \n",
    "\n",
    "Note: current historic demand is targeted for 2022 fluctuations, this can further be improved to include other years. "
   ]
  },
  {
   "cell_type": "code",
   "execution_count": 1,
   "id": "f911ddd9",
   "metadata": {},
   "outputs": [
    {
     "data": {
      "text/plain": [
       "'C:\\\\Users\\\\tatya\\\\OneDrive - University of Edinburgh\\\\01 Dissertation\\\\01 PyPSA\\\\PyPSA-GB-H2\\\\notebooks'"
      ]
     },
     "execution_count": 1,
     "metadata": {},
     "output_type": "execute_result"
    }
   ],
   "source": [
    "import os\n",
    "import sys\n",
    "from dotenv import find_dotenv, load_dotenv\n",
    "\n",
    "load_dotenv(find_dotenv())\n",
    "src_path = os.environ.get('PROJECT_SRC')\n",
    "os.chdir(src_path)\n",
    "os.getcwd()"
   ]
  },
  {
   "cell_type": "code",
   "execution_count": 2,
   "id": "72b6637b",
   "metadata": {},
   "outputs": [],
   "source": [
    "import pandas as pd\n",
    "import numpy as np"
   ]
  },
  {
   "cell_type": "code",
   "execution_count": 3,
   "id": "e40f0f16",
   "metadata": {},
   "outputs": [],
   "source": [
    "# read data for 2022 extracted from National Grid: https://mip-prd-web.azurewebsites.net/DataItemExplorer\n",
    "xls = pd.ExcelFile('..\\data\\loads\\historic-industrial\\industrial-historic-daily-input.xlsx')\n",
    "df = pd.read_excel(xls, '2022', header=0)"
   ]
  },
  {
   "cell_type": "code",
   "execution_count": 4,
   "id": "6e19fda2",
   "metadata": {},
   "outputs": [],
   "source": [
    "# extract daily industry consumption\n",
    "df['name'] = df['Adjusted Date']\n",
    "df['industrial'] = df['Daily, MWh/day']\n",
    "df = df.filter(['name','industrial'], axis=1)\n",
    "df = df.set_index(['name'])"
   ]
  },
  {
   "cell_type": "code",
   "execution_count": 5,
   "id": "eb9d6854",
   "metadata": {},
   "outputs": [],
   "source": [
    "# split to equal hourly consumption\n",
    "df = df.to_period().resample('H').ffill()\n",
    "df = df / 24"
   ]
  },
  {
   "cell_type": "code",
   "execution_count": 6,
   "id": "d5f70f62",
   "metadata": {},
   "outputs": [],
   "source": [
    "# add total -> share of total\n",
    "df.loc['total',:] = df.sum(axis=0, numeric_only=True)\n",
    "df['industrial, share'] = df['industrial'].div(df.iloc[8760]['industrial']).round(100)\n",
    "df = df.filter(['name','industrial, share'], axis=1)\n",
    "df = df.drop('total', axis=0)"
   ]
  },
  {
   "cell_type": "code",
   "execution_count": 7,
   "id": "8958390e",
   "metadata": {},
   "outputs": [],
   "source": [
    "# print csv\n",
    "df.to_csv('..\\data\\loads\\historic-industrial\\industrial-historic-output.csv', index=True)"
   ]
  },
  {
   "cell_type": "code",
   "execution_count": null,
   "id": "7a24ff2b",
   "metadata": {},
   "outputs": [],
   "source": []
  },
  {
   "cell_type": "code",
   "execution_count": null,
   "id": "ed58039c",
   "metadata": {},
   "outputs": [],
   "source": []
  }
 ],
 "metadata": {
  "kernelspec": {
   "display_name": "Python 3 (ipykernel)",
   "language": "python",
   "name": "python3"
  },
  "language_info": {
   "codemirror_mode": {
    "name": "ipython",
    "version": 3
   },
   "file_extension": ".py",
   "mimetype": "text/x-python",
   "name": "python",
   "nbconvert_exporter": "python",
   "pygments_lexer": "ipython3",
   "version": "3.8.5"
  }
 },
 "nbformat": 4,
 "nbformat_minor": 5
}
