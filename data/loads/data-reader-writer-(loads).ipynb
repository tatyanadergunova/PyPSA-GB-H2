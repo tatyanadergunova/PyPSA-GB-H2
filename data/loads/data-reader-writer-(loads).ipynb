{
 "cells": [
  {
   "cell_type": "markdown",
   "id": "01cc9e46",
   "metadata": {},
   "source": [
    "# Data reader-writer (loads)"
   ]
  },
  {
   "cell_type": "markdown",
   "id": "6eecf27a",
   "metadata": {},
   "source": [
    "This notebook is developed to read FES-2022 hydrogen consumption and split it by hourly fluctuation and clusters share (refer capacity-splitter).\n",
    "\n",
    "This notbeook covers hydrogen loads from the following technologies: \n",
    "1. Industrial: including hourly fluctuations (historic)\n",
    "2. Residential & Commercial: including hourly fluctuations (historic)\n",
    "3. Transport (road): linear hourly consumption\n",
    "4. Transport (rail, aviation, shipping - assumed as synthetic fuels): linear hourly consumption\n",
    "5. Direct Air Carbon Capture and Storage: linear hourly consumption\n",
    "6. Power Generation: fluctuations are extracted from PyPSA-GB and pro-rated to FES capacity.\n"
   ]
  },
  {
   "cell_type": "code",
   "execution_count": 1,
   "id": "70aa8526",
   "metadata": {},
   "outputs": [
    {
     "data": {
      "text/plain": [
       "'C:\\\\Users\\\\tatya\\\\OneDrive - University of Edinburgh\\\\01 Dissertation\\\\01 PyPSA\\\\PyPSA-GB-H2\\\\notebooks'"
      ]
     },
     "execution_count": 1,
     "metadata": {},
     "output_type": "execute_result"
    }
   ],
   "source": [
    "import os\n",
    "import sys\n",
    "from dotenv import find_dotenv, load_dotenv\n",
    "\n",
    "load_dotenv(find_dotenv())\n",
    "src_path = os.environ.get('PROJECT_SRC')\n",
    "os.chdir(src_path)\n",
    "os.getcwd()"
   ]
  },
  {
   "cell_type": "code",
   "execution_count": 2,
   "id": "7ef38e4e",
   "metadata": {},
   "outputs": [],
   "source": [
    "import pandas as pd\n",
    "import numpy as np"
   ]
  },
  {
   "cell_type": "code",
   "execution_count": 3,
   "id": "67842776",
   "metadata": {},
   "outputs": [],
   "source": [
    "# select scenario:\n",
    "# scenario = 'Consumer Transformation'\n",
    "# scenario = 'Falling Short'\n",
    "# scenario = 'Leading the Way'\n",
    "scenario = 'System Transformation'"
   ]
  },
  {
   "cell_type": "code",
   "execution_count": 4,
   "id": "8101abcb",
   "metadata": {},
   "outputs": [],
   "source": [
    "# select year:\n",
    "year = 2050"
   ]
  },
  {
   "cell_type": "code",
   "execution_count": 5,
   "id": "be0ffc7e",
   "metadata": {},
   "outputs": [],
   "source": [
    "# select year (to write snapshots):\n",
    "df = pd.DataFrame()\n",
    "df['name'] = pd.date_range('2050-01-01 00:00:00','2050-12-31 23:00:00', freq='H')\n",
    "df['weightings'] = 1\n",
    "df.to_csv('..\\data\\LOPF_data\\snapshots.csv', index=False)"
   ]
  },
  {
   "cell_type": "code",
   "execution_count": 6,
   "id": "612fba20",
   "metadata": {},
   "outputs": [],
   "source": [
    "# read FES-2022:\n",
    "xls = pd.ExcelFile('..\\data\\FES2022\\FES2022 Workbook V6.xlsx')\n",
    "df1 = pd.read_excel(xls, 'WS1', header=7)\n",
    "# get column A name - 'Fuel Type'\n",
    "col_1 = df1.columns[0]\n",
    "# get column B name - 'Scenario'\n",
    "col_2 = df1.columns[1]\n",
    "# get column D name - 'Category'\n",
    "col_3 = df1.columns[3]\n",
    "# get column E name - 'Sector'\n",
    "col_4 = df1.columns[4]"
   ]
  },
  {
   "cell_type": "markdown",
   "id": "2d177928",
   "metadata": {},
   "source": [
    "### Get yearly consumption per Sector from FES"
   ]
  },
  {
   "cell_type": "code",
   "execution_count": 7,
   "id": "b12ff8ae",
   "metadata": {},
   "outputs": [],
   "source": [
    "# get partial dataframe with rows filtered by value in column A & B & D & E - by Scenario & year\n",
    "\n",
    "# Industrial Sector:\n",
    "df_industry = df1.loc[(df1[col_1]=='Hydrogen') & (df1[col_2]== scenario) & (df1[col_3]=='Demand') & (df1[col_4].isin(['Industrial']))]\n",
    "df_industry = df_industry.filter(['Sector', year], axis=1)\n",
    "df_industry = df_industry.set_index(['Sector'])\n",
    "\n",
    "# Residential & Commercial Sectors (heating):\n",
    "df_heating = df1.loc[(df1[col_1]=='Hydrogen') & (df1[col_2]== scenario) & (df1[col_3]=='Demand') & (df1[col_4].isin(['Residential', 'Commercial']))]\n",
    "df_heating = df_heating.filter(['Sector', year], axis=1)\n",
    "df_heating = df_heating.set_index(['Sector'])\n",
    "\n",
    "# Transport Sector (road):\n",
    "df_road = df1.loc[(df1[col_1]=='Hydrogen') & (df1[col_2]== scenario) & (df1[col_3]=='Demand') & (df1[col_4].isin(['Road Transport']))]\n",
    "df_road = df_road.filter(['Sector', year], axis=1)\n",
    "df_road = df_road.set_index(['Sector'])\n",
    "\n",
    "# Transport Sector (shipping, aviation, rail):\n",
    "df_shipping = df1.loc[(df1[col_1]=='Hydrogen') & (df1[col_2]== scenario) & (df1[col_3]=='Demand') & (df1[col_4].isin(['Shipping','Aviation','Rail']))]\n",
    "df_shipping = df_shipping.filter(['Sector', year], axis=1)\n",
    "df_shipping = df_shipping.set_index(['Sector'])\n",
    "# sum shipping + aviation + rail\n",
    "df_shipping.loc['shipping',:] = df_shipping.sum(axis=0, numeric_only=True)\n",
    "df_shipping = df_shipping.filter(['shipping'], axis=0)\n",
    "\n",
    "# Direct Air Carbon Capture and Storage\n",
    "df_daccs = df1.loc[(df1[col_1]=='Hydrogen') & (df1[col_2]== scenario) & (df1[col_3]=='Demand') & (df1[col_4].isin(['Direct Air Carbon Capture and Storage']))]\n",
    "df_daccs = df_daccs.filter(['Sector', year], axis=1)\n",
    "df_daccs = df_daccs.set_index(['Sector'])\n",
    "\n",
    "# Power\n",
    "df_power = df1.loc[(df1[col_1]=='Hydrogen') & (df1[col_2]==scenario) & (df1[col_3]=='Demand') & (df1[col_4]=='Power Generation')]\n",
    "df_power = df_power.filter(['Sector', year], axis=1)\n",
    "df_power = df_power.set_index(['Sector'])"
   ]
  },
  {
   "cell_type": "code",
   "execution_count": 8,
   "id": "dc6a91dc",
   "metadata": {},
   "outputs": [],
   "source": [
    "# read capacity-splitter by clusters:\n",
    "xls = pd.ExcelFile('..\\data\\capacity-splitter\\capacity-splitter.xlsx')\n",
    "df2 = pd.read_excel(xls, 'loads-share', header=0)"
   ]
  },
  {
   "cell_type": "markdown",
   "id": "c72ff9de",
   "metadata": {},
   "source": [
    "### 1. Industial"
   ]
  },
  {
   "cell_type": "code",
   "execution_count": 9,
   "id": "7b9968a7",
   "metadata": {},
   "outputs": [],
   "source": [
    "# read historical data of industry consumption 'industrial-historic-output':\n",
    "df3 = pd.read_csv('..\\data\\loads\\historic-industrial\\industrial-historic-output.csv')"
   ]
  },
  {
   "cell_type": "code",
   "execution_count": 10,
   "id": "22acc0e4",
   "metadata": {},
   "outputs": [],
   "source": [
    "# get hourly consumption (& convert TWh to MWh):\n",
    "df3['industrial'] = df3['industrial, share'].mul(df_industry.iloc[0][year]).round(10) * 1e6\n",
    "df3 = df3.filter(['industrial'], axis=1)\n",
    "df3['name'] = df['name']"
   ]
  },
  {
   "cell_type": "code",
   "execution_count": 11,
   "id": "e481c8a7",
   "metadata": {},
   "outputs": [],
   "source": [
    "# split values by Industrial Clusters based on assumed % (check share = 1):\n",
    "\n",
    "df3['St Fergus'] = df3['industrial'].mul(df2.iloc[0]['St Fergus'])\n",
    "df3['Grangemouth'] = df3['industrial'].mul(df2.iloc[0]['Grangemouth'])\n",
    "df3['Teesside'] = df3['industrial'].mul(df2.iloc[0]['Teesside'])\n",
    "df3['Humberside'] = df3['industrial'].mul(df2.iloc[0]['Humberside'])\n",
    "df3['Theddlethorpe'] = df3['industrial'].mul(df2.iloc[0]['Theddlethorpe'])\n",
    "df3['Merseyside'] = df3['industrial'].mul(df2.iloc[0]['Merseyside'])\n",
    "df3['Barrow'] = df3['industrial'].mul(df2.iloc[0]['Barrow'])\n",
    "df3['Bacton'] = df3['industrial'].mul(df2.iloc[0]['Bacton'])\n",
    "df3['Grain LNG'] = df3['industrial'].mul(df2.iloc[0]['Grain LNG'])\n",
    "df3['Southampton'] = df3['industrial'].mul(df2.iloc[0]['Southampton'])\n",
    "df3['South Wales'] = df3['industrial'].mul(df2.iloc[0]['South Wales'])\n",
    "\n",
    "df3 = df3.drop(['industrial'], axis=1)\n",
    "df3 = df3.set_index(['name'])"
   ]
  },
  {
   "cell_type": "code",
   "execution_count": 12,
   "id": "047a3f5c",
   "metadata": {},
   "outputs": [
    {
     "data": {
      "text/plain": [
       "87.733101252"
      ]
     },
     "execution_count": 12,
     "metadata": {},
     "output_type": "execute_result"
    }
   ],
   "source": [
    "# check total hydrogen consumption per sector / year:\n",
    "df3.values.sum() / 1e6"
   ]
  },
  {
   "cell_type": "code",
   "execution_count": 13,
   "id": "f21336fc",
   "metadata": {
    "scrolled": false
   },
   "outputs": [],
   "source": [
    "df3.to_csv('..\\data\\loads\\working\\h2-industrial.csv', index=True)"
   ]
  },
  {
   "cell_type": "markdown",
   "id": "ae617df6",
   "metadata": {},
   "source": [
    "### 2. Heating"
   ]
  },
  {
   "cell_type": "code",
   "execution_count": 14,
   "id": "188e0ae1",
   "metadata": {},
   "outputs": [],
   "source": [
    "# read historical data of heating 'heating-historic-output':\n",
    "df4 = pd.read_csv('..\\data\\loads\\historic-heating\\heating-historic-output.csv')"
   ]
  },
  {
   "cell_type": "code",
   "execution_count": 15,
   "id": "7f61a3da",
   "metadata": {},
   "outputs": [],
   "source": [
    "# get hourly consumption (& convert TWh to MWh):\n",
    "df4['residential'] = df4['residential, share'].mul(df_heating.iloc[0][year]).round(10) * 1e6\n",
    "df4['commercial'] = df4['commercial, share'].mul(df_heating.iloc[1][year]).round(10) * 1e6\n",
    "# sum 'residential' and 'commercial' as assumed the same share between clusters:\n",
    "df4['heating'] = df4['residential'] + df4['commercial']\n",
    "df4 = df4.filter(['heating'], axis=1)\n",
    "df4['name'] = df['name']"
   ]
  },
  {
   "cell_type": "code",
   "execution_count": 16,
   "id": "cf4f2819",
   "metadata": {},
   "outputs": [],
   "source": [
    "# split values by Industrial Clusters based on assumed % (check share = 1):\n",
    "\n",
    "df4['St Fergus'] = df4['heating'].mul(df2.iloc[1]['St Fergus'])\n",
    "df4['Grangemouth'] = df4['heating'].mul(df2.iloc[1]['Grangemouth'])\n",
    "df4['Teesside'] = df4['heating'].mul(df2.iloc[1]['Teesside'])\n",
    "df4['Humberside'] = df4['heating'].mul(df2.iloc[1]['Humberside'])\n",
    "df4['Theddlethorpe'] = df4['heating'].mul(df2.iloc[1]['Theddlethorpe'])\n",
    "df4['Merseyside'] = df4['heating'].mul(df2.iloc[1]['Merseyside'])\n",
    "df4['Barrow'] = df4['heating'].mul(df2.iloc[1]['Barrow'])\n",
    "df4['Bacton'] = df4['heating'].mul(df2.iloc[1]['Bacton'])\n",
    "df4['Grain LNG'] = df4['heating'].mul(df2.iloc[1]['Grain LNG'])\n",
    "df4['Southampton'] = df4['heating'].mul(df2.iloc[1]['Southampton'])\n",
    "df4['South Wales'] = df4['heating'].mul(df2.iloc[1]['South Wales'])\n",
    "\n",
    "df4 = df4.drop(['heating'], axis=1)\n",
    "df4 = df4.set_index(['name'])"
   ]
  },
  {
   "cell_type": "code",
   "execution_count": 17,
   "id": "5c5f2c00",
   "metadata": {},
   "outputs": [
    {
     "data": {
      "text/plain": [
       "191.29726013689995"
      ]
     },
     "execution_count": 17,
     "metadata": {},
     "output_type": "execute_result"
    }
   ],
   "source": [
    "# check total hydrogen consumption per sector / year:\n",
    "df4.values.sum() / 1e6"
   ]
  },
  {
   "cell_type": "code",
   "execution_count": 18,
   "id": "38c3a5a3",
   "metadata": {},
   "outputs": [],
   "source": [
    "df4.to_csv('..\\data\\loads\\working\\h2-heating.csv', index=True)"
   ]
  },
  {
   "cell_type": "markdown",
   "id": "ef14ab24",
   "metadata": {},
   "source": [
    "### 3. Transport (Road)"
   ]
  },
  {
   "cell_type": "code",
   "execution_count": 19,
   "id": "41514212",
   "metadata": {},
   "outputs": [],
   "source": [
    "# read snapshots and add daily equal-share:\n",
    "df5 = pd.read_csv('..\\data\\LOPF_data\\snapshots.csv')\n",
    "df5['equal share'] = 1 / 8760"
   ]
  },
  {
   "cell_type": "code",
   "execution_count": 20,
   "id": "a098de2e",
   "metadata": {},
   "outputs": [],
   "source": [
    "# get hourly consumption (& convert TWh to MWh):\n",
    "df5['road'] = df5['equal share'].mul(df_road.iloc[0][year]).round(10) * 1e6\n",
    "df5 = df5.filter(['road'], axis=1)\n",
    "df5['name'] = df['name']"
   ]
  },
  {
   "cell_type": "code",
   "execution_count": 21,
   "id": "f017d2cb",
   "metadata": {},
   "outputs": [],
   "source": [
    "# split values by Industrial Clusters based on assumed % (check share = 1):\n",
    "\n",
    "df5['St Fergus'] = df5['road'].mul(df2.iloc[3]['St Fergus'])\n",
    "df5['Grangemouth'] = df5['road'].mul(df2.iloc[3]['Grangemouth'])\n",
    "df5['Teesside'] = df5['road'].mul(df2.iloc[3]['Teesside'])\n",
    "df5['Humberside'] = df5['road'].mul(df2.iloc[3]['Humberside'])\n",
    "df5['Theddlethorpe'] = df5['road'].mul(df2.iloc[3]['Theddlethorpe'])\n",
    "df5['Merseyside'] = df5['road'].mul(df2.iloc[3]['Merseyside'])\n",
    "df5['Barrow'] = df5['road'].mul(df2.iloc[3]['Barrow'])\n",
    "df5['Bacton'] = df5['road'].mul(df2.iloc[3]['Bacton'])\n",
    "df5['Grain LNG'] = df5['road'].mul(df2.iloc[3]['Grain LNG'])\n",
    "df5['Southampton'] = df5['road'].mul(df2.iloc[3]['Southampton'])\n",
    "df5['South Wales'] = df5['road'].mul(df2.iloc[3]['South Wales'])\n",
    "\n",
    "df5 = df5.drop(['road'], axis=1)\n",
    "df5 = df5.set_index(['name'])"
   ]
  },
  {
   "cell_type": "code",
   "execution_count": 22,
   "id": "72e9a497",
   "metadata": {},
   "outputs": [
    {
     "data": {
      "text/plain": [
       "56.224379832000004"
      ]
     },
     "execution_count": 22,
     "metadata": {},
     "output_type": "execute_result"
    }
   ],
   "source": [
    "# check total hydrogen consumption per sector / year:\n",
    "df5.values.sum() / 1e6"
   ]
  },
  {
   "cell_type": "code",
   "execution_count": 23,
   "id": "12bff4ed",
   "metadata": {},
   "outputs": [],
   "source": [
    "df5.to_csv('..\\data\\loads\\working\\h2-transport.csv', index=True)"
   ]
  },
  {
   "cell_type": "markdown",
   "id": "1c15b6be",
   "metadata": {},
   "source": [
    "### 4. Transport (Synthetic Fuels)"
   ]
  },
  {
   "cell_type": "code",
   "execution_count": 24,
   "id": "bef46dbd",
   "metadata": {},
   "outputs": [],
   "source": [
    "# read snapshots and add daily equal-share:\n",
    "df10 = pd.read_csv('..\\data\\LOPF_data\\snapshots.csv')\n",
    "df10['equal share'] = 1 / 8760"
   ]
  },
  {
   "cell_type": "code",
   "execution_count": 25,
   "id": "e5a0b667",
   "metadata": {},
   "outputs": [],
   "source": [
    "# get hourly consumption (& convert TWh to MWh):\n",
    "df10['shipping'] = df10['equal share'].mul(df_shipping.iloc[0][year]).round(10) * 1e6\n",
    "df10 = df10.filter(['shipping'], axis=1)\n",
    "df10['name'] = df['name']"
   ]
  },
  {
   "cell_type": "code",
   "execution_count": 26,
   "id": "e18614ab",
   "metadata": {},
   "outputs": [],
   "source": [
    "# split values by Industrial Clusters based on assumed % (check share = 1):\n",
    "\n",
    "df10['St Fergus'] = df10['shipping'].mul(df2.iloc[4]['St Fergus'])\n",
    "df10['Grangemouth'] = df10['shipping'].mul(df2.iloc[4]['Grangemouth'])\n",
    "df10['Teesside'] = df10['shipping'].mul(df2.iloc[4]['Teesside'])\n",
    "df10['Humberside'] = df10['shipping'].mul(df2.iloc[4]['Humberside'])\n",
    "df10['Theddlethorpe'] = df10['shipping'].mul(df2.iloc[4]['Theddlethorpe'])\n",
    "df10['Merseyside'] = df10['shipping'].mul(df2.iloc[4]['Merseyside'])\n",
    "df10['Barrow'] = df10['shipping'].mul(df2.iloc[4]['Barrow'])\n",
    "df10['Bacton'] = df10['shipping'].mul(df2.iloc[4]['Bacton'])\n",
    "df10['Grain LNG'] = df10['shipping'].mul(df2.iloc[4]['Grain LNG'])\n",
    "df10['Southampton'] = df10['shipping'].mul(df2.iloc[4]['Southampton'])\n",
    "df10['South Wales'] = df10['shipping'].mul(df2.iloc[4]['South Wales'])\n",
    "\n",
    "df10 = df10.drop(['shipping'], axis=1)\n",
    "df10 = df10.set_index(['name'])"
   ]
  },
  {
   "cell_type": "code",
   "execution_count": 27,
   "id": "8e78e02d",
   "metadata": {},
   "outputs": [
    {
     "data": {
      "text/plain": [
       "81.85887207599997"
      ]
     },
     "execution_count": 27,
     "metadata": {},
     "output_type": "execute_result"
    }
   ],
   "source": [
    "# check total hydrogen consumption per sector / year:\n",
    "df10.values.sum() / 1e6"
   ]
  },
  {
   "cell_type": "code",
   "execution_count": 28,
   "id": "c52e7d04",
   "metadata": {},
   "outputs": [],
   "source": [
    "df10.to_csv('..\\data\\loads\\working\\h2-synthetic-fuels.csv', index=True)"
   ]
  },
  {
   "cell_type": "markdown",
   "id": "f0b7ad52",
   "metadata": {},
   "source": [
    "### 5. Direct Air Carbon Capture and Storage"
   ]
  },
  {
   "cell_type": "code",
   "execution_count": 29,
   "id": "c5ccc67f",
   "metadata": {},
   "outputs": [],
   "source": [
    "# read snapshots and add daily equal-share:\n",
    "df6 = pd.read_csv('..\\data\\LOPF_data\\snapshots.csv')\n",
    "df6['equal share'] = 1 / 8760"
   ]
  },
  {
   "cell_type": "code",
   "execution_count": 30,
   "id": "1808e255",
   "metadata": {},
   "outputs": [],
   "source": [
    "# split FES annual to hourly demand:\n",
    "df6['daccs'] = df6['equal share'].mul(df_daccs.iloc[0][year]).round(10) * 1e6\n",
    "df6 = df6.filter(['daccs'], axis=1)\n",
    "df6['name'] = df['name']"
   ]
  },
  {
   "cell_type": "code",
   "execution_count": 31,
   "id": "187790af",
   "metadata": {},
   "outputs": [],
   "source": [
    "# split values by Industrial Clusters based on assumed % (check share = 1):\n",
    "\n",
    "df6['St Fergus'] = df6['daccs'].mul(df2.iloc[7]['St Fergus'])\n",
    "df6['Grangemouth'] = df6['daccs'].mul(df2.iloc[7]['Grangemouth'])\n",
    "df6['Teesside'] = df6['daccs'].mul(df2.iloc[7]['Teesside'])\n",
    "df6['Humberside'] = df6['daccs'].mul(df2.iloc[7]['Humberside'])\n",
    "df6['Theddlethorpe'] = df6['daccs'].mul(df2.iloc[7]['Theddlethorpe'])\n",
    "df6['Merseyside'] = df6['daccs'].mul(df2.iloc[7]['Merseyside'])\n",
    "df6['Barrow'] = df6['daccs'].mul(df2.iloc[7]['Barrow'])\n",
    "df6['Bacton'] = df6['daccs'].mul(df2.iloc[7]['Bacton'])\n",
    "df6['Grain LNG'] = df6['daccs'].mul(df2.iloc[7]['Grain LNG'])\n",
    "df6['Southampton'] = df6['daccs'].mul(df2.iloc[7]['Southampton'])\n",
    "df6['South Wales'] = df6['daccs'].mul(df2.iloc[7]['South Wales'])\n",
    "\n",
    "df6 = df6.drop(['daccs'], axis=1)\n",
    "df6 = df6.set_index(['name'])"
   ]
  },
  {
   "cell_type": "code",
   "execution_count": 32,
   "id": "9db4b195",
   "metadata": {},
   "outputs": [
    {
     "data": {
      "text/plain": [
       "0.0"
      ]
     },
     "execution_count": 32,
     "metadata": {},
     "output_type": "execute_result"
    }
   ],
   "source": [
    "# check total hydrogen consumption per sector / year:\n",
    "df6.values.sum() / 1e6"
   ]
  },
  {
   "cell_type": "code",
   "execution_count": 33,
   "id": "628064f2",
   "metadata": {},
   "outputs": [],
   "source": [
    "df6.to_csv('..\\data\\loads\\working\\h2-daccs.csv', index=True)"
   ]
  },
  {
   "cell_type": "markdown",
   "id": "cb665018",
   "metadata": {},
   "source": [
    "### 6. Power"
   ]
  },
  {
   "cell_type": "code",
   "execution_count": 34,
   "id": "dc69741d",
   "metadata": {},
   "outputs": [],
   "source": [
    "# scenario is selected based on earlier input: \n",
    "if scenario == 'Consumer Transformation': \n",
    "    path = '..\\data\\PyPSA-GB\\h2-power-loads\\CT\\year-2050'\n",
    "elif scenario == 'Falling Short': \n",
    "    path = '..\\data\\PyPSA-GB\\h2-power-loads\\FS\\year-2050'\n",
    "elif scenario == 'Leading the Way':\n",
    "    path = '..\\data\\PyPSA-GB\\h2-power-loads\\LW\\year-2050'\n",
    "elif scenario == 'System Transformation':\n",
    "    path = '..\\data\\PyPSA-GB\\h2-power-loads\\ST\\year-2050'"
   ]
  },
  {
   "cell_type": "code",
   "execution_count": 35,
   "id": "860f1728",
   "metadata": {},
   "outputs": [
    {
     "data": {
      "text/plain": [
       "'..\\\\data\\\\PyPSA-GB\\\\h2-power-loads\\\\ST\\\\year-2050'"
      ]
     },
     "execution_count": 35,
     "metadata": {},
     "output_type": "execute_result"
    }
   ],
   "source": [
    "path"
   ]
  },
  {
   "cell_type": "code",
   "execution_count": 36,
   "id": "e42e5e0c",
   "metadata": {},
   "outputs": [],
   "source": [
    "# read and combine data from PyPSA-GB (run done in 2 x steps due to processing limitation):\n",
    "df_1 = pd.read_csv(path+'\\Hydrogen-1st-half.csv')\n",
    "df_2 = pd.read_csv(path+'\\Hydrogen-2nd-half.csv')\n",
    "df7 = pd.concat([df_1, df_2], ignore_index=True, sort=False)\n",
    "df7['name'] = df7['snapshot']\n",
    "df7 = df7.set_index(['name'])\n",
    "df7 = df7.loc[:, df7.columns.str.contains('Hydrogen')]"
   ]
  },
  {
   "cell_type": "code",
   "execution_count": 37,
   "id": "0ba12817",
   "metadata": {},
   "outputs": [
    {
     "data": {
      "text/plain": [
       "12.75053358258836"
      ]
     },
     "execution_count": 37,
     "metadata": {},
     "output_type": "execute_result"
    }
   ],
   "source": [
    "# split Hydrogen Power Plants by Clusters based on location (manual - low accuracy):\n",
    "\n",
    "df7['St Fergus'] = df7['Peterhead Hydrogen']\n",
    "df7['Grangemouth'] = 0\n",
    "df7['Teesside'] = 0\n",
    "df7['Humberside'] = df7['Castleford Hydrogen'] + df7['South Humber Bank Hydrogen'] + df7['Keadby Hydrogen'] + df7['Saltend* Hydrogen'] + df7['VPI Immingham* Hydrogen']\n",
    "df7['Theddlethorpe'] = df7['Staythorpe C Hydrogen'] + df7['Cottam Development Centre Hydrogen']\n",
    "df7['Merseyside'] = df7['Blackburn Hydrogen'] + df7['Sandbach Hydrogen'] + df7['Thornhill Hydrogen'] + df7['West Burton CCGT Hydrogen'] + df7['Carrington Hydrogen'] + df7['Fellside CHP* Hydrogen'] + df7['Rocksavage Hydrogen'] + df7['Connahs Quay Hydrogen']\n",
    "df7['Bacton'] = df7['Sutton Bridge Hydrogen'] + df7['Corby Hydrogen'] + df7['Spalding Hydrogen'] + df7['Great Yarmouth Hydrogen'] + df7['Little Barford Hydrogen']\n",
    "df7['Grain LNG'] = df7['Damhead Creek Hydrogen'] + df7['Rye House Hydrogen'] + df7['Medway Hydrogen'] + df7['Enfield Hydrogen'] + df7['Grain CHP* Hydrogen']\n",
    "df7['Southampton'] = df7['Shoreham Hydrogen'] + df7['Langage Hydrogen'] + df7['Marchwood Hydrogen'] + df7['Didcot B Hydrogen']\n",
    "df7['South Wales'] = df7['Baglan Bay Hydrogen'] + df7['Severn Power Hydrogen'] + df7['Coryton Hydrogen'] + df7['Pembroke Hydrogen'] + df7['Seabank Hydrogen']\n",
    "\n",
    "df7 = df7.filter(['St Fergus','Grangemouth','Teesside','Humberside','Theddlethorpe','Merseyside','Bacton','Grain LNG','Southampton','South Wales'], axis=1)\n",
    "\n",
    "df7.values.sum() / 1e6"
   ]
  },
  {
   "cell_type": "code",
   "execution_count": 38,
   "id": "1ba743b4",
   "metadata": {},
   "outputs": [
    {
     "data": {
      "text/plain": [
       "12.600000000000001"
      ]
     },
     "execution_count": 38,
     "metadata": {},
     "output_type": "execute_result"
    }
   ],
   "source": [
    "# adjust to total Hydrogen consumption of PyPSA-GB output to FES:\n",
    "percent = df7.values.sum() / 1e6 / df_power.values.sum()\n",
    "df7 = df7.div(percent)\n",
    "# check total hydrogen consumption per sector / year:\n",
    "df7.values.sum() / 1e6"
   ]
  },
  {
   "cell_type": "code",
   "execution_count": 39,
   "id": "90bdc4c7",
   "metadata": {},
   "outputs": [],
   "source": [
    "df7.to_csv('..\\data\\loads\\working\\h2-power.csv', index=True)"
   ]
  },
  {
   "cell_type": "markdown",
   "id": "e490d8b5",
   "metadata": {},
   "source": [
    "### Merge all clusters in one table and re-arrange data for PyPSA"
   ]
  },
  {
   "cell_type": "code",
   "execution_count": 40,
   "id": "7c5d8fce",
   "metadata": {},
   "outputs": [],
   "source": [
    "import glob"
   ]
  },
  {
   "cell_type": "code",
   "execution_count": 41,
   "id": "f7f63a57",
   "metadata": {},
   "outputs": [],
   "source": [
    "path = '..\\data\\loads\\working'"
   ]
  },
  {
   "cell_type": "code",
   "execution_count": 42,
   "id": "2270979b",
   "metadata": {},
   "outputs": [],
   "source": [
    "all_files = glob.glob(os.path.join(path, \"*.csv\"))\n",
    "df8 = pd.concat((pd.read_csv(f) for f in all_files), axis=1, ignore_index=False)\n",
    "df8 = df8.drop(['name'], axis=1)\n",
    "df8 = df8.groupby(level=0,axis=1).sum()\n",
    "df8['name'] = df['name']\n",
    "df8 = df8.set_index(['name'])"
   ]
  },
  {
   "cell_type": "code",
   "execution_count": 43,
   "id": "9402ef38",
   "metadata": {},
   "outputs": [
    {
     "data": {
      "text/plain": [
       "429.71361329689995"
      ]
     },
     "execution_count": 43,
     "metadata": {},
     "output_type": "execute_result"
    }
   ],
   "source": [
    "# check total hydrogen consumption per scenario / year:\n",
    "df8.values.sum() / 1e6"
   ]
  },
  {
   "cell_type": "code",
   "execution_count": 44,
   "id": "a3a97188",
   "metadata": {},
   "outputs": [],
   "source": [
    "df8.to_csv('..\\data\\LOPF_data\\loads-p_set.csv', index=True)"
   ]
  },
  {
   "cell_type": "markdown",
   "id": "86fbccbe",
   "metadata": {},
   "source": [
    "### Write Loads csv"
   ]
  },
  {
   "cell_type": "code",
   "execution_count": 45,
   "id": "ae317dbd",
   "metadata": {},
   "outputs": [],
   "source": [
    "df9 = pd.read_csv('..\\data\\loads\\loads-names.csv')\n",
    "df9['bus'] = df9['name']"
   ]
  },
  {
   "cell_type": "code",
   "execution_count": 46,
   "id": "2b2acff0",
   "metadata": {},
   "outputs": [],
   "source": [
    "df9.to_csv('..\\data\\LOPF_data\\loads.csv', index=False)"
   ]
  },
  {
   "cell_type": "code",
   "execution_count": null,
   "id": "7d23fa78",
   "metadata": {},
   "outputs": [],
   "source": []
  },
  {
   "cell_type": "code",
   "execution_count": null,
   "id": "58719939",
   "metadata": {},
   "outputs": [],
   "source": []
  }
 ],
 "metadata": {
  "kernelspec": {
   "display_name": "PyPSA-GB",
   "language": "python",
   "name": "pypsa-gb"
  },
  "language_info": {
   "codemirror_mode": {
    "name": "ipython",
    "version": 3
   },
   "file_extension": ".py",
   "mimetype": "text/x-python",
   "name": "python",
   "nbconvert_exporter": "python",
   "pygments_lexer": "ipython3",
   "version": "3.8.5"
  }
 },
 "nbformat": 4,
 "nbformat_minor": 5
}
