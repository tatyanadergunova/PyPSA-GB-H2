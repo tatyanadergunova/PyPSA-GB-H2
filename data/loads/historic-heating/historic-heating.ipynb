{
 "cells": [
  {
   "cell_type": "markdown",
   "id": "62f79829",
   "metadata": {},
   "source": [
    "# Residential & Commercial demand (historic)"
   ]
  },
  {
   "cell_type": "markdown",
   "id": "379f1680",
   "metadata": {},
   "source": [
    "This notebook is prepared to extract historic energy cosumption by residential and commercial sectors. This notebook shall be used along with 'heat_demand_GB_2010.py' file which is based on approach adopted from demandlib: https://github.com/oemof/demandlib/blob/dev/examples/heat_demand_example.py.\n",
    "\n",
    "Note: current notebook uses only 2010 data of GB hourly temperature fluctuations and share of single-family and multi-family households as of 2021."
   ]
  },
  {
   "cell_type": "code",
   "execution_count": 1,
   "id": "1dd042e1",
   "metadata": {},
   "outputs": [
    {
     "data": {
      "text/plain": [
       "'C:\\\\Users\\\\tatya\\\\OneDrive - University of Edinburgh\\\\01 Dissertation\\\\01 PyPSA\\\\PyPSA-GB-H2\\\\notebooks'"
      ]
     },
     "execution_count": 1,
     "metadata": {},
     "output_type": "execute_result"
    }
   ],
   "source": [
    "import os\n",
    "import sys\n",
    "from dotenv import find_dotenv, load_dotenv\n",
    "\n",
    "load_dotenv(find_dotenv())\n",
    "src_path = os.environ.get('PROJECT_SRC')\n",
    "os.chdir(src_path)\n",
    "os.getcwd()"
   ]
  },
  {
   "cell_type": "code",
   "execution_count": 2,
   "id": "6f1b1b45",
   "metadata": {},
   "outputs": [],
   "source": [
    "import pandas as pd\n",
    "import numpy as np"
   ]
  },
  {
   "cell_type": "markdown",
   "id": "884f331d",
   "metadata": {},
   "source": [
    "### Extract holidays for selected historic year"
   ]
  },
  {
   "cell_type": "code",
   "execution_count": 3,
   "id": "4bbab457",
   "metadata": {},
   "outputs": [
    {
     "data": {
      "text/plain": [
       "{datetime.date(2010, 1, 1): 'New year',\n",
       " datetime.date(2010, 4, 2): 'Good Friday',\n",
       " datetime.date(2010, 4, 4): 'Easter Sunday',\n",
       " datetime.date(2010, 4, 5): 'Easter Monday',\n",
       " datetime.date(2010, 5, 3): 'Early May Bank Holiday',\n",
       " datetime.date(2010, 5, 31): 'Spring Bank Holiday',\n",
       " datetime.date(2010, 8, 30): 'Late Summer Bank Holiday',\n",
       " datetime.date(2010, 12, 25): 'Christmas Day',\n",
       " datetime.date(2010, 12, 26): 'Boxing Day',\n",
       " datetime.date(2010, 12, 27): 'Christmas Shift',\n",
       " datetime.date(2010, 12, 28): 'Boxing Day Shift'}"
      ]
     },
     "execution_count": 3,
     "metadata": {},
     "output_type": "execute_result"
    }
   ],
   "source": [
    "from workalendar.europe import UnitedKingdom\n",
    "\n",
    "cal = UnitedKingdom ()\n",
    "holidays = dict(cal.holidays(2010))\n",
    "\n",
    "holidays"
   ]
  },
  {
   "cell_type": "markdown",
   "id": "6905a214",
   "metadata": {},
   "source": [
    " ### Go to VScode and run 'heat_demand_GB.py' with extracted holidays"
   ]
  },
  {
   "cell_type": "markdown",
   "id": "be3d5842",
   "metadata": {},
   "source": [
    "Upon results generation from 'heat_demand_GB.py'  to csv. adjust the data to share of residential and commecial hourly consumption. "
   ]
  },
  {
   "cell_type": "markdown",
   "id": "8b520e57",
   "metadata": {},
   "source": [
    "### Run below to obtain historic demand fluctuations (in share)"
   ]
  },
  {
   "cell_type": "code",
   "execution_count": 4,
   "id": "ee787a3c",
   "metadata": {},
   "outputs": [],
   "source": [
    "# read csv. file\n",
    "df = pd.read_csv('..\\data\\loads\\historic-heating\\heat_demand_GB_2010.csv')"
   ]
  },
  {
   "cell_type": "code",
   "execution_count": 5,
   "id": "c77d3a7f",
   "metadata": {},
   "outputs": [],
   "source": [
    "# sum efh (rural) and mfh (urban) - assumed constant share in 2010 -> 2030, 2050\n",
    "df['residential'] = df['efh'] + df['mfh']\n",
    "df = df.rename(columns={'ghd': 'commercial', 'Unnamed: 0': 'name'})\n",
    "df = df.filter(['name', 'residential', 'commercial'], axis=1)"
   ]
  },
  {
   "cell_type": "code",
   "execution_count": 6,
   "id": "1504df01",
   "metadata": {},
   "outputs": [],
   "source": [
    "# add total -> share of total\n",
    "df.loc['total',:] = df.sum(axis=0, numeric_only=True)\n",
    "df['residential, share'] = df['residential'].div(df.iloc[8760]['residential']).round(100)\n",
    "df['commercial, share'] = df['commercial'].div(df.iloc[8760]['commercial']).round(100)\n",
    "df = df.filter(['name','residential, share','commercial, share'], axis=1)\n",
    "df = df.drop('total', axis=0)"
   ]
  },
  {
   "cell_type": "code",
   "execution_count": 7,
   "id": "e42e70bb",
   "metadata": {},
   "outputs": [
    {
     "data": {
      "text/html": [
       "<div>\n",
       "<style scoped>\n",
       "    .dataframe tbody tr th:only-of-type {\n",
       "        vertical-align: middle;\n",
       "    }\n",
       "\n",
       "    .dataframe tbody tr th {\n",
       "        vertical-align: top;\n",
       "    }\n",
       "\n",
       "    .dataframe thead th {\n",
       "        text-align: right;\n",
       "    }\n",
       "</style>\n",
       "<table border=\"1\" class=\"dataframe\">\n",
       "  <thead>\n",
       "    <tr style=\"text-align: right;\">\n",
       "      <th></th>\n",
       "      <th>name</th>\n",
       "      <th>residential, share</th>\n",
       "      <th>commercial, share</th>\n",
       "    </tr>\n",
       "  </thead>\n",
       "  <tbody>\n",
       "    <tr>\n",
       "      <th>0</th>\n",
       "      <td>2010-01-01 00:00:00</td>\n",
       "      <td>0.000104</td>\n",
       "      <td>0.000157</td>\n",
       "    </tr>\n",
       "    <tr>\n",
       "      <th>1</th>\n",
       "      <td>2010-01-01 01:00:00</td>\n",
       "      <td>0.000109</td>\n",
       "      <td>0.000154</td>\n",
       "    </tr>\n",
       "    <tr>\n",
       "      <th>2</th>\n",
       "      <td>2010-01-01 02:00:00</td>\n",
       "      <td>0.000111</td>\n",
       "      <td>0.000175</td>\n",
       "    </tr>\n",
       "    <tr>\n",
       "      <th>3</th>\n",
       "      <td>2010-01-01 03:00:00</td>\n",
       "      <td>0.000119</td>\n",
       "      <td>0.000213</td>\n",
       "    </tr>\n",
       "    <tr>\n",
       "      <th>4</th>\n",
       "      <td>2010-01-01 04:00:00</td>\n",
       "      <td>0.000148</td>\n",
       "      <td>0.000253</td>\n",
       "    </tr>\n",
       "    <tr>\n",
       "      <th>...</th>\n",
       "      <td>...</td>\n",
       "      <td>...</td>\n",
       "      <td>...</td>\n",
       "    </tr>\n",
       "    <tr>\n",
       "      <th>8755</th>\n",
       "      <td>2010-12-31 19:00:00</td>\n",
       "      <td>0.000194</td>\n",
       "      <td>0.000169</td>\n",
       "    </tr>\n",
       "    <tr>\n",
       "      <th>8756</th>\n",
       "      <td>2010-12-31 20:00:00</td>\n",
       "      <td>0.000189</td>\n",
       "      <td>0.000160</td>\n",
       "    </tr>\n",
       "    <tr>\n",
       "      <th>8757</th>\n",
       "      <td>2010-12-31 21:00:00</td>\n",
       "      <td>0.000171</td>\n",
       "      <td>0.000141</td>\n",
       "    </tr>\n",
       "    <tr>\n",
       "      <th>8758</th>\n",
       "      <td>2010-12-31 22:00:00</td>\n",
       "      <td>0.000142</td>\n",
       "      <td>0.000126</td>\n",
       "    </tr>\n",
       "    <tr>\n",
       "      <th>8759</th>\n",
       "      <td>2010-12-31 23:00:00</td>\n",
       "      <td>0.000106</td>\n",
       "      <td>0.000125</td>\n",
       "    </tr>\n",
       "  </tbody>\n",
       "</table>\n",
       "<p>8760 rows × 3 columns</p>\n",
       "</div>"
      ],
      "text/plain": [
       "                     name  residential, share  commercial, share\n",
       "0     2010-01-01 00:00:00            0.000104           0.000157\n",
       "1     2010-01-01 01:00:00            0.000109           0.000154\n",
       "2     2010-01-01 02:00:00            0.000111           0.000175\n",
       "3     2010-01-01 03:00:00            0.000119           0.000213\n",
       "4     2010-01-01 04:00:00            0.000148           0.000253\n",
       "...                   ...                 ...                ...\n",
       "8755  2010-12-31 19:00:00            0.000194           0.000169\n",
       "8756  2010-12-31 20:00:00            0.000189           0.000160\n",
       "8757  2010-12-31 21:00:00            0.000171           0.000141\n",
       "8758  2010-12-31 22:00:00            0.000142           0.000126\n",
       "8759  2010-12-31 23:00:00            0.000106           0.000125\n",
       "\n",
       "[8760 rows x 3 columns]"
      ]
     },
     "execution_count": 7,
     "metadata": {},
     "output_type": "execute_result"
    }
   ],
   "source": [
    "df"
   ]
  },
  {
   "cell_type": "code",
   "execution_count": 8,
   "id": "fcc5bbc8",
   "metadata": {},
   "outputs": [],
   "source": [
    "# write 'heat_demand_GB_2010-share'\n",
    "df.to_csv('..\\data\\loads\\historic-heating\\heating-historic-output.csv', index=False)"
   ]
  },
  {
   "cell_type": "code",
   "execution_count": null,
   "id": "87b2ddbd",
   "metadata": {},
   "outputs": [],
   "source": []
  },
  {
   "cell_type": "code",
   "execution_count": null,
   "id": "399cf24d",
   "metadata": {},
   "outputs": [],
   "source": []
  }
 ],
 "metadata": {
  "kernelspec": {
   "display_name": "PyPSA-GB",
   "language": "python",
   "name": "pypsa-gb"
  },
  "language_info": {
   "codemirror_mode": {
    "name": "ipython",
    "version": 3
   },
   "file_extension": ".py",
   "mimetype": "text/x-python",
   "name": "python",
   "nbconvert_exporter": "python",
   "pygments_lexer": "ipython3",
   "version": "3.8.5"
  }
 },
 "nbformat": 4,
 "nbformat_minor": 5
}
